{
  "nbformat": 4,
  "nbformat_minor": 0,
  "metadata": {
    "colab": {
      "name": "BISMILLAH NGODING ULANG PART 2",
      "provenance": [],
      "collapsed_sections": []
    },
    "kernelspec": {
      "name": "python3",
      "display_name": "Python 3"
    },
    "language_info": {
      "name": "python"
    }
  },
  "cells": [
    {
      "cell_type": "code",
      "metadata": {
        "id": "VZIhPwV3_0Cq"
      },
      "source": [
        "import pandas as pd\n",
        "import numpy as np\n",
        "from sklearn.feature_extraction.text import TfidfVectorizer\n",
        "from sklearn.feature_extraction.text import TfidfTransformer\n",
        "from sklearn import model_selection, naive_bayes, svm\n",
        "from sklearn.metrics import accuracy_score\n",
        "from sklearn.model_selection import train_test_split\n",
        "from sklearn.model_selection import KFold\n",
        "from sklearn.pipeline import Pipeline\n",
        "from sklearn.model_selection import cross_val_score"
      ],
      "execution_count": null,
      "outputs": []
    },
    {
      "cell_type": "code",
      "metadata": {
        "id": "5WaGh-fuB9AB",
        "colab": {
          "base_uri": "https://localhost:8080/",
          "height": 725
        },
        "outputId": "c65eb4ed-e761-4065-ed8c-71611246008a"
      },
      "source": [
        "soal = pd.read_excel('/content/drive/MyDrive/PER-TA-AN DUNIAWI/Data/42-01/Preprocessing.xlsx')\n",
        "soal"
      ],
      "execution_count": null,
      "outputs": [
        {
          "output_type": "execute_result",
          "data": {
            "text/html": [
              "<div>\n",
              "<style scoped>\n",
              "    .dataframe tbody tr th:only-of-type {\n",
              "        vertical-align: middle;\n",
              "    }\n",
              "\n",
              "    .dataframe tbody tr th {\n",
              "        vertical-align: top;\n",
              "    }\n",
              "\n",
              "    .dataframe thead th {\n",
              "        text-align: right;\n",
              "    }\n",
              "</style>\n",
              "<table border=\"1\" class=\"dataframe\">\n",
              "  <thead>\n",
              "    <tr style=\"text-align: right;\">\n",
              "      <th></th>\n",
              "      <th>Question</th>\n",
              "      <th>Label</th>\n",
              "      <th>Casefold</th>\n",
              "      <th>Tokenize</th>\n",
              "      <th>FreqDist</th>\n",
              "      <th>Stopwords</th>\n",
              "      <th>Stemmed</th>\n",
              "    </tr>\n",
              "  </thead>\n",
              "  <tbody>\n",
              "    <tr>\n",
              "      <th>0</th>\n",
              "      <td>Aktor yang bertanggung jawab atas analisis pre...</td>\n",
              "      <td>C1</td>\n",
              "      <td>aktor yang bertanggung jawab atas analisis pre...</td>\n",
              "      <td>['aktor', 'yang', 'bertanggung', 'jawab', 'ata...</td>\n",
              "      <td>&lt;FreqDist with 16 samples and 18 outcomes&gt;</td>\n",
              "      <td>['aktor', 'bertanggung', 'analisis', 'predikti...</td>\n",
              "      <td>['aktor', 'tanggung', 'analisis', 'prediktif',...</td>\n",
              "    </tr>\n",
              "    <tr>\n",
              "      <th>1</th>\n",
              "      <td>Fokusnya terhadap Enterprise/Executive IS adal...</td>\n",
              "      <td>C1</td>\n",
              "      <td>fokusnya terhadap enterprise/executive is adal...</td>\n",
              "      <td>['fokusnya', 'terhadap', 'enterpriseexecutive'...</td>\n",
              "      <td>&lt;FreqDist with 10 samples and 10 outcomes&gt;</td>\n",
              "      <td>['fokusnya', 'enterpriseexecutive', 'is', 'sej...</td>\n",
              "      <td>['fokus', 'enterpriseexecutive', 'is', 'sejara...</td>\n",
              "    </tr>\n",
              "    <tr>\n",
              "      <th>2</th>\n",
              "      <td>Sistem pemrosesan transaksi yang secara konsta...</td>\n",
              "      <td>C1</td>\n",
              "      <td>sistem pemrosesan transaksi yang secara konsta...</td>\n",
              "      <td>['sistem', 'pemrosesan', 'transaksi', 'yang', ...</td>\n",
              "      <td>&lt;FreqDist with 14 samples and 14 outcomes&gt;</td>\n",
              "      <td>['sistem', 'pemrosesan', 'transaksi', 'konstan...</td>\n",
              "      <td>['sistem', 'pemrosesan', 'transaksi', 'konstan...</td>\n",
              "    </tr>\n",
              "    <tr>\n",
              "      <th>3</th>\n",
              "      <td>Komponen yang dikembangkan oleh Gartner dalam ...</td>\n",
              "      <td>C3</td>\n",
              "      <td>komponen yang dikembangkan oleh gartner dalam ...</td>\n",
              "      <td>['komponen', 'yang', 'dikembangkan', 'oleh', '...</td>\n",
              "      <td>&lt;FreqDist with 12 samples and 12 outcomes&gt;</td>\n",
              "      <td>['komponen', 'dikembangkan', 'gartner', 'mengu...</td>\n",
              "      <td>['komponen', 'kembang', 'gartner', 'urai', 're...</td>\n",
              "    </tr>\n",
              "    <tr>\n",
              "      <th>4</th>\n",
              "      <td>Fokus utama pengembangan sistem informasi adal...</td>\n",
              "      <td>C1</td>\n",
              "      <td>fokus utama pengembangan sistem informasi adal...</td>\n",
              "      <td>['fokus', 'utama', 'pengembangan', 'sistem', '...</td>\n",
              "      <td>&lt;FreqDist with 20 samples and 24 outcomes&gt;</td>\n",
              "      <td>['fokus', 'utama', 'pengembangan', 'sistem', '...</td>\n",
              "      <td>['fokus', 'utama', 'kembang', 'sistem', 'infor...</td>\n",
              "    </tr>\n",
              "    <tr>\n",
              "      <th>...</th>\n",
              "      <td>...</td>\n",
              "      <td>...</td>\n",
              "      <td>...</td>\n",
              "      <td>...</td>\n",
              "      <td>...</td>\n",
              "      <td>...</td>\n",
              "      <td>...</td>\n",
              "    </tr>\n",
              "    <tr>\n",
              "      <th>156</th>\n",
              "      <td>Dalam three-tier arsitektur data warehouse, ti...</td>\n",
              "      <td>C1</td>\n",
              "      <td>dalam three-tier arsitektur data warehouse, ti...</td>\n",
              "      <td>['dalam', 'threetier', 'arsitektur', 'data', '...</td>\n",
              "      <td>&lt;FreqDist with 8 samples and 8 outcomes&gt;</td>\n",
              "      <td>['threetier', 'arsitektur', 'data', 'warehouse...</td>\n",
              "      <td>['threetier', 'arsitektur', 'data', 'warehouse...</td>\n",
              "    </tr>\n",
              "    <tr>\n",
              "      <th>157</th>\n",
              "      <td>Berikut keuntungan data warehouse kecuali...</td>\n",
              "      <td>C3</td>\n",
              "      <td>berikut keuntungan data warehouse kecuali...</td>\n",
              "      <td>['berikut', 'keuntungan', 'data', 'warehouse',...</td>\n",
              "      <td>&lt;FreqDist with 5 samples and 5 outcomes&gt;</td>\n",
              "      <td>['keuntungan', 'data', 'warehouse', 'kecuali']</td>\n",
              "      <td>['untung', 'data', 'warehouse', 'kecuali']</td>\n",
              "    </tr>\n",
              "    <tr>\n",
              "      <th>158</th>\n",
              "      <td>classification technique yang teknik pembelaja...</td>\n",
              "      <td>C1</td>\n",
              "      <td>classification technique yang teknik pembelaja...</td>\n",
              "      <td>['classification', 'technique', 'yang', 'tekni...</td>\n",
              "      <td>&lt;FreqDist with 15 samples and 16 outcomes&gt;</td>\n",
              "      <td>['classification', 'technique', 'teknik', 'pem...</td>\n",
              "      <td>['classification', 'technique', 'teknik', 'aja...</td>\n",
              "    </tr>\n",
              "    <tr>\n",
              "      <th>159</th>\n",
              "      <td>Hadoop adalah kerangka kerja sumber terbuka un...</td>\n",
              "      <td>C1</td>\n",
              "      <td>hadoop adalah kerangka kerja sumber terbuka un...</td>\n",
              "      <td>['hadoop', 'adalah', 'kerangka', 'kerja', 'sum...</td>\n",
              "      <td>&lt;FreqDist with 17 samples and 18 outcomes&gt;</td>\n",
              "      <td>['hadoop', 'kerangka', 'kerja', 'sumber', 'ter...</td>\n",
              "      <td>['hadoop', 'kerangka', 'kerja', 'sumber', 'buk...</td>\n",
              "    </tr>\n",
              "    <tr>\n",
              "      <th>160</th>\n",
              "      <td>Data hari ini datang dalam semua jenis format ...</td>\n",
              "      <td>C1</td>\n",
              "      <td>data hari ini datang dalam semua jenis format ...</td>\n",
              "      <td>['data', 'hari', 'ini', 'datang', 'dalam', 'se...</td>\n",
              "      <td>&lt;FreqDist with 12 samples and 13 outcomes&gt;</td>\n",
              "      <td>['data', 'jenis', 'format', 'big', 'data', 'vs']</td>\n",
              "      <td>['data', 'jenis', 'format', 'big', 'data', 'vs']</td>\n",
              "    </tr>\n",
              "  </tbody>\n",
              "</table>\n",
              "<p>161 rows × 7 columns</p>\n",
              "</div>"
            ],
            "text/plain": [
              "                                              Question  ...                                            Stemmed\n",
              "0    Aktor yang bertanggung jawab atas analisis pre...  ...  ['aktor', 'tanggung', 'analisis', 'prediktif',...\n",
              "1    Fokusnya terhadap Enterprise/Executive IS adal...  ...  ['fokus', 'enterpriseexecutive', 'is', 'sejara...\n",
              "2    Sistem pemrosesan transaksi yang secara konsta...  ...  ['sistem', 'pemrosesan', 'transaksi', 'konstan...\n",
              "3    Komponen yang dikembangkan oleh Gartner dalam ...  ...  ['komponen', 'kembang', 'gartner', 'urai', 're...\n",
              "4    Fokus utama pengembangan sistem informasi adal...  ...  ['fokus', 'utama', 'kembang', 'sistem', 'infor...\n",
              "..                                                 ...  ...                                                ...\n",
              "156  Dalam three-tier arsitektur data warehouse, ti...  ...  ['threetier', 'arsitektur', 'data', 'warehouse...\n",
              "157       Berikut keuntungan data warehouse kecuali...  ...         ['untung', 'data', 'warehouse', 'kecuali']\n",
              "158  classification technique yang teknik pembelaja...  ...  ['classification', 'technique', 'teknik', 'aja...\n",
              "159  Hadoop adalah kerangka kerja sumber terbuka un...  ...  ['hadoop', 'kerangka', 'kerja', 'sumber', 'buk...\n",
              "160  Data hari ini datang dalam semua jenis format ...  ...   ['data', 'jenis', 'format', 'big', 'data', 'vs']\n",
              "\n",
              "[161 rows x 7 columns]"
            ]
          },
          "metadata": {
            "tags": []
          },
          "execution_count": 40
        }
      ]
    },
    {
      "cell_type": "code",
      "metadata": {
        "id": "xUEfgqL2CncO",
        "colab": {
          "base_uri": "https://localhost:8080/"
        },
        "outputId": "885702c0-fc90-49d2-9e5e-d1a417a64ea0"
      },
      "source": [
        "soal['Label'].value_counts()"
      ],
      "execution_count": null,
      "outputs": [
        {
          "output_type": "execute_result",
          "data": {
            "text/plain": [
              "C1    114\n",
              "C3     38\n",
              "C2      9\n",
              "Name: Label, dtype: int64"
            ]
          },
          "metadata": {
            "tags": []
          },
          "execution_count": 41
        }
      ]
    },
    {
      "cell_type": "code",
      "metadata": {
        "id": "_-SdB7hACsx3"
      },
      "source": [
        "import imblearn\n",
        "from imblearn.over_sampling import RandomOverSampler\n",
        "from imblearn.over_sampling import SMOTE\n",
        "from imblearn.over_sampling import BorderlineSMOTE\n",
        "from imblearn.over_sampling import SVMSMOTE\n",
        "from imblearn.over_sampling import ADASYN\n",
        "from collections import Counter\n",
        "from sklearn.preprocessing import LabelEncoder"
      ],
      "execution_count": null,
      "outputs": []
    },
    {
      "cell_type": "code",
      "metadata": {
        "id": "jQE5Q7_8DEUV"
      },
      "source": [
        "x = soal['Stemmed'].values\n",
        "y = soal['Label'].values"
      ],
      "execution_count": null,
      "outputs": []
    },
    {
      "cell_type": "code",
      "metadata": {
        "id": "uTPVoKgdRKY0",
        "colab": {
          "base_uri": "https://localhost:8080/"
        },
        "outputId": "f411c583-e8ec-4a7a-cf8f-9244274f5aef"
      },
      "source": [
        "print(x)"
      ],
      "execution_count": null,
      "outputs": [
        {
          "output_type": "stream",
          "text": [
            "[\"['aktor', 'tanggung', 'analisis', 'prediktif', 'analisis', 'statistik', 'tools', 'analitik', 'canggih', 'algoritmanya']\"\n",
            " \"['fokus', 'enterpriseexecutive', 'is', 'sejarah', 'business', 'inteligent']\"\n",
            " \"['sistem', 'pemrosesan', 'transaksi', 'konstan', 'libat', 'tangan', 'baru', 'basis', 'data', 'operasional']\"\n",
            " \"['komponen', 'kembang', 'gartner', 'urai', 'rencana', 'laksana', 'bi', 'kecuali']\"\n",
            " \"['fokus', 'utama', 'kembang', 'sistem', 'informasi', 'dukung', 'ambil', 'putus', 'fokus', 'sedia', 'lapor', 'struktur', 'kala', 'sejarah', 'business', 'intelligent']\"\n",
            " \"['csf', 'business', 'intelligent']\"\n",
            " \"['csf', 'business', 'intelligence', 'harus', 'cepat', 'terima', 'ubah', 'adaptasi', 'erti']\"\n",
            " \"['sistem', 'dukung', 'putus', 'dss', 'gabung', 'sumber', 'daya', 'intelektual', 'individu', 'mampu', 'komputer', 'tingkat', 'kualitas', 'putus', 'kembang', 'business', 'intelligent']\"\n",
            " \"['type', 'of', 'business', 'analytics']\"\n",
            " \"['istilah', 'tools', 'monitoring', 'analisis', 'kerja']\"\n",
            " \"['istilah', 'gabung', 'arsitektur', 'tools', 'basis', 'data', 'analytical', 'tools', 'aplikasi', 'metodologi']\"\n",
            " \"['oltp']\" \"['analytics', 'retail', 'value', 'chain', 'salah', 'contoh']\"\n",
            " \"['environtment', 'arsitektur', 'business', 'intelligent']\"\n",
            " \"['aspek', 'milik', 'data', 'scientist', 'kecuali']\"\n",
            " \"['fase', 'turun', 'angka', 'atribut', 'data', 'fase']\"\n",
            " \"['data', 'taxonomy', 'representasi', 'angka', 'numerik', 'spesifik', 'variabel']\"\n",
            " \"['karakteristik', 'data', 'readiness', 'milik', 'aman']\"\n",
            " \"['data', 'level', 'of', 'abstraction']\"\n",
            " \"['data', 'taxonomy', 'representasi', 'label', 'class']\"\n",
            " \"['karakteristik', 'data', 'readiness', 'percaya', 'benar']\"\n",
            " \"['indikator', 'utama', 'bi', 'data', 'science', 'business', 'analytic']\"\n",
            " \"['data', 'level', 'abstraction', 'algoritma', 'data', 'mining', 'klasifikasi', 'categorical', 'numeric']\"\n",
            " \"['karakteristik', 'data', 'readiness', 'kondisi', 'apa']\"\n",
            " \"['fase', 'dara', 'preprocessing']\" \"['ukur', 'data']\"\n",
            " \"['fase', 'menghandle', 'hilang', 'nilai', 'data', 'fase']\"\n",
            " \"['fase', 'akses', 'koleksi', 'data', 'fase']\"\n",
            " \"['fase', 'dara', 'preprocessing']\"\n",
            " \"['fase', 'normalisasi', 'data', 'fase']\"\n",
            " \"['deskripsi', 'konklusi', 'karakteristik', 'simpul', 'nama']\"\n",
            " \"['hitung', 'sebar', 'nilai', 'subset', 'data']\" \"['nilai', 'dataset']\"\n",
            " \"['hitung', 'sebar', 'nilai']\" \"['nilai', 'bagi', 'banyak']\"\n",
            " \"['evaluasi', 'regresi', 'model', 'metode', 'root', 'mean', 'square']\"\n",
            " \"['hitung', 'statistik', 'evaluasi', 'regresi', 'model']\"\n",
            " \"['tuju', 'regresi']\"\n",
            " \"['hitung', 'ciri', 'bentuk', 'distribusi', 'unimodal']\" \"['centrality']\"\n",
            " \"['hitung', 'distribusi', 'data', 'gambar', 'struktur', 'unimodal']\"\n",
            " \"['metode', 'kembang', 'model', 'probabilistik', 'variabel', 'jelas', 'prediktor', 'variabel', 'kelas', 'respons']\"\n",
            " \"['jenis', 'regresi']\"\n",
            " \"['deskripsi', 'sample', 'data', 'statistik', 'nama']\"\n",
            " \"['statistic', 'business', 'analytic']\"\n",
            " \"['role', 'information', 'reporting']\"\n",
            " \"['chart', 'cocok', 'data', 'sifat', 'time', 'series']\"\n",
            " \"['metode', 'statistik', 'klasifikasi', 'deskriptif', 'matriks']\"\n",
            " \"['guna', 'representasi', 'visual', 'eksplorasi', 'paham', 'komunikasi', 'data']\"\n",
            " \"['kategori', 'bisnis', 'report', 'tampil', 'bentuk', 'metric']\"\n",
            " \"['bspecialized', 'charts', 'and', 'graphs']\"\n",
            " \"['salah', 'atur', 'praktis', 'pilih', 'sederhana', 'alternatif', 'buat', 'mudah', 'paham', 'paham', 'audiens', 'tuju']\"\n",
            " \"['chart', 'cocok', 'banding', 'populasi']\"\n",
            " \"['lapor', 'artefak', 'komunikasi', 'siap', 'maksud', 'khusus', 'informasi']\"\n",
            " \"['kategori', 'bisnis', 'report', 'tampil', 'bentuk', 'tampil', 'chart', 'grafik']\"\n",
            " \"['business', 'report', 'categories']\" \"['basic', 'chart', 'graph']\"\n",
            " \"['kategori', 'bisnis', 'report', 'tampil', 'bentuk', 'nilai']\"\n",
            " \"['internet', 'muncul', 'media', 'visualisasi', 'bawa', 'trik', 'mampu', 'data']\"\n",
            " \"['kategori', 'display', 'library']\"\n",
            " \"['atur', 'data', 'buruk', 'salah', 'salah', 'desain', 'dashboard']\"\n",
            " \"['pisah', 'atur', 'atur', 'informasi', 'kait', 'kecuali']\"\n",
            " \"['kategori', 'dashboard']\"\n",
            " \"['sedia', 'konteks', 'pada', 'data', 'salah', 'salah', 'desain', 'dashboard']\"\n",
            " \"['lebih', 'batas', 'layar', 'salah', 'salah', 'desain', 'dashboard']\"\n",
            " \"['sorot', 'data', 'salah', 'salah', 'desain', 'dashboard']\"\n",
            " \"['kategori', 'dashboard', 'data', 'domain']\" \"['icons']\"\n",
            " \"['tampil', 'visual', 'informasi', 'capai', 'tuju']\"\n",
            " \"['kategori', 'display', 'library', 'risi', 'gambar']\"\n",
            " \"['test', 'dashboard', 'usability']\" \"['dashboard', 'usabilitas']\"\n",
            " \"['karakteristik', 'design', 'dashboard', 'efektif']\"\n",
            " \"['dukung', 'efektivitas', 'design', 'dashboard', 'kecuali']\"\n",
            " \"['data', 'sumber', 'sistem', 'waris', 'operasional', 'independen', 'sedia', 'data', 'eksternal', 'nama']\"\n",
            " \"['data', 'data', 'nama']\"\n",
            " \"['data', 'muat', 'area', 'mentas', 'transformasi', 'bersih', 'nama']\"\n",
            " \"['threetier', 'arsitektur', 'data', 'warehouse', 'tier']\"\n",
            " \"['subset', 'data', 'warehouse', 'desain', 'strategic', 'bisnis', 'unit', 'nama']\"\n",
            " \"['data', 'simpan', 'ubah', 'erti', 'karakteristik', 'data', 'warehouse']\"\n",
            " \"['data', 'termaintan', 'warehouse', 'erti', 'karakteristik', 'data', 'warehouse']\"\n",
            " \"['data', 'warehouse', 'process']\"\n",
            " \"['independent', 'data', 'mart', 'architecture', 'architecture']\"\n",
            " \"['data', 'organisir', 'dasar', 'subjectnya', 'erti', 'karakteristik', 'data', 'warehouse']\"\n",
            " \"['big', 'data', 'analytic', 'sejarah', 'data', 'warehouse']\"\n",
            " \"['skala', 'data', 'warehouse', 'nama']\"\n",
            " \"['independent', 'data', 'mart', 'architecture', 'architecture']\"\n",
            " \"['centralized', 'data', 'storage', 'sejarah', 'data', 'warehouse']\"\n",
            " \"['skalabilitas', 'kueri', 'fungsi', 'akses', 'data', 'tumbuh', 'ideal', 'linier', 'ukur', 'warehouse']\"\n",
            " \"['there', 'is', 'no', 'onesizefitsall', 'strategy', 'data', 'warehouse']\"\n",
            " \"['inmon', 'milik', 'topdown', 'approach']\"\n",
            " \"['sedia', 'kendara', 'dorong', 'data', 'sistem', 'sumber', 'gudang', 'data']\"\n",
            " \"['data', 'warehouse', 'skala', 'horizontal', 'vertikal']\"\n",
            " \"['star', 'schema', 'isi', 'tabel', 'fakta', 'pusat', 'keliling', 'hubung', 'tabel', 'dimensi']\"\n",
            " \"['model', 'dimensi', 'sistem', 'bas', 'ambil', 'dukung', 'akses', 'minta', 'volume']\"\n",
            " \"['kriteria', 'banding', 'olap', 'oltp', 'kecuali']\"\n",
            " \"['adaptasi', 'alat', 'basis', 'data', 'rasional', 'tradisional', 'butuh', 'kembang', 'gudang', 'data']\"\n",
            " \"['integrasi', 'data', 'proses', 'utama', 'kecuali']\"\n",
            " \"['kembang', 'ruang', 'alat', 'janji', 'integrasi', 'data', 'waktunyata', 'sumber']\"\n",
            " \"['implementasi', 'data', 'warehouse', 'hindar', 'kecuali']\"\n",
            " \"['data', 'warehouse', 'hasil', 'dukung', 'manajemen', 'senior', 'kuat', 'kembang', 'juara', 'proyek', 'puncak', 'bagan', 'organisasi']\"\n",
            " \"['dimensi', 'ubah', 'orientasi', 'dimensi', 'lapor', 'tampil', 'halaman', 'minta', 'ad', 'hoc']\"\n",
            " \"['jenis', 'kpi', 'rentang', 'kode', 'perangkat', 'lunak', 'tampil', 'visual', 'kerja']\"\n",
            " \"['sasar', 'target', 'butuh', 'kpi', 'fungsi']\"\n",
            " \"['jenis', 'kpi', 'target', 'kerangka', 'penuh']\"\n",
            " \"['value', 'target', 'ukur']\" \"['metric', 'closedloop', 'bpm', 'beda']\"\n",
            " \"['kpi', 'indikasi', 'visual', 'hasil', 'banding', 'hasil']\"\n",
            " \"['jenis', 'kpi', 'target', 'ukur', 'dasar', 'baseline', 'tolok', 'ukur']\"\n",
            " \"['metric', 'closedloop', 'bpm', 'mana', 'pergi']\"\n",
            " \"['bpm', 'key', 'components']\"\n",
            " \"['metric', 'closedloop', 'bpm', 'kesana']\"\n",
            " \"['jenis', 'kpi', 'tuju', 'strategis']\"\n",
            " \"['ukur', 'jenis', 'pointer', 'bilah', 'nilai', 'tanda', 'target']\"\n",
            " \"['metric', 'closedloop', 'bpm']\"\n",
            " \"['balanced', 'scorecard', 'bsc', 'ukur', 'kerja', 'metodologi', 'manajemen']\"\n",
            " \"['business', 'performance', 'management']\"\n",
            " \"['jenis', 'data', 'mining', 'identifikasi', 'kelompok', 'alami', 'halhal', 'dasar', 'karakteristik']\"\n",
            " \"['jenis', 'data', 'mining', 'discover', 'timeordered', 'events']\"\n",
            " \"['step', 'tiga', 'crispdm']\" \"['step', 'crispdm']\"\n",
            " \"['data', 'mining', 'application']\"\n",
            " \"['klasifikasi', '3', 'main', 'category', 'data', 'mining']\"\n",
            " \"['data', 'mining', 'taxonomy', 'segmentation', 'beda', 'salah', 'satu']\"\n",
            " \"['step', 'crispdm']\" \"['proses', 'semma']\"\n",
            " \"['step', 'empat', 'crispdm']\"\n",
            " \"['jenis', 'data', 'mining', 'cerita', 'sifat', 'jadi', 'peristiwa', 'dasar']\"\n",
            " \"['data', 'mining', 'taxonomy', 'pradiction', 'beda', 'salah', 'satu']\"\n",
            " \"['data', 'mining', 'taxonomy', 'association', 'beda', 'salah', 'satu']\"\n",
            " \"['jenis', 'data', 'mining', 'temu', 'kelompok']\"\n",
            " \"['rasio', 'benar', 'instanse', 'klasifikasi']\"\n",
            " \"['assessing', 'classification', 'model', 'tingkat', 'paham', 'wawas', 'sedia', 'model']\"\n",
            " \"['assessing', 'classification', 'model', 'biaya', 'komputasi', 'libat', 'hasil', 'model', 'cepat', 'anggap']\"\n",
            " \"['barangbarang', 'beli', 'kartu', 'kredit', 'wawas', 'produkproduk', 'beli', 'langgan', 'tipu', 'guna', 'kartu', 'kredit', 'angka', 'nama']\"\n",
            " \"['classification', 'technique', 'historis', 'nali', 'sama', 'tetap', 'kategori']\"\n",
            " \"['assessing', 'classification', 'model', 'mampu', 'bangun', 'model', 'prediksi', 'efisien', 'data']\"\n",
            " \"['classification', 'technique', 'algoritma', 'klasifikasi', 'utama', 'bertahuntahun', 'muncul', 'teknik', 'ajar', 'mesin']\"\n",
            " \"['rasio', 'benar', 'instanse', 'klasifikasi', 'positif', 'bagi', 'klasifikasi', 'positif', 'klasifikasi', 'positif']\"\n",
            " \"['assessing', 'classification', 'model', 'mampu', 'model', 'prediksi', 'akurat', 'data', 'berisik', 'data', 'nilai', 'hilang', 'salah']\"\n",
            " \"['classification', 'technique', 'bilang', 'teknik', 'klasifikasi', 'populer', 'arena', 'tambang', 'data']\"\n",
            " \"['kombinasi', 'produk', 'ritel', 'beli', 'tingkat', 'tempat', 'produk', 'lantai', 'jual', 'harga', 'promosi', 'produk', 'nama']\"\n",
            " \"['pola', 'rurut', 'layan', 'langgan', 'identifikasi', 'layan', 'minat', 'nama']\"\n",
            " \"['computional', 'requirement', 'promosi', 'efisiensi', 'biaya', 'rendah', 'kerja', 'proses', 'kerja', 'kumpul', 'sumber', 'daya', 'ti', 'kelola', 'kelola', 'pusat']\"\n",
            " \"['computional', 'requirement', 'cepat', 'wawas', 'tata', 'kelola', 'data', 'integrasi', 'data', 'fungsi', 'analitik', 'basis', 'data', 'pindah', 'konversi', 'data', 'ulang', 'kali']\"\n",
            " \"['big', 'data', 'challange', 'mampu', 'tangkap', 'simpan', 'proses', 'data', 'cepat', 'terima']\"\n",
            " \"['big', 'data', 'challange', 'mampu', 'proses', 'data', 'cepat', 'tangkap']\"\n",
            " \"['pustaka', 'mapreduce', 'sedia', 'sedia', 'mampu', 'analitik']\"\n",
            " \"['basis', 'data', 'nosql', 'tuju', 'layan', 'data', 'diskrit', 'simpan', 'volume', 'data', 'multiterstruktur']\"\n",
            " \"['faktor', 'kontribusi', 'tingkat', 'volume', 'data', 'eksponensial', 'data', 'bas', 'transaksi', 'simpan', 'bertahuntahun', 'big', 'data', 'vs']\"\n",
            " \"['big', 'data', 'challange', 'mampu', 'imbang', 'aman', 'privasi', 'milik', 'kualitas', 'big', 'data']\"\n",
            " \"['computional', 'requirement', 'pecah', 'kompleks', 'wawas', 'akurat', 'hitung', 'analitis', 'big', 'data', 'proses', 'memori', 'distribusi', 'set', 'node', 'khusus']\"\n",
            " \"['big', 'data', 'challange', 'mampu', 'gabung', 'data', 'struktur', 'sumber']\"\n",
            " \"['computional', 'requirement', 'satu', 'perangkat', 'keras', 'perangkat', 'lunak', 'unit', 'fisik', 'cepat', 'ukur', 'dasar', 'butuh']\"\n",
            " \"['acu', 'sesuai', 'fakta']\"\n",
            " \"['cepat', 'data', 'hasil', 'cepat', 'data', 'proses', 'big', 'data', 'vs']\"\n",
            " \"['threetier', 'arsitektur', 'data', 'warehouse', 'tier', 'tiga']\"\n",
            " \"['untung', 'data', 'warehouse', 'kecuali']\"\n",
            " \"['classification', 'technique', 'teknik', 'ajar', 'mesin', 'populer', 'tipe', 'klasifikasi']\"\n",
            " \"['hadoop', 'kerangka', 'kerja', 'sumber', 'buka', 'proses', 'simpan', 'analis', 'data', 'distribusi', 'struktur']\"\n",
            " \"['data', 'jenis', 'format', 'big', 'data', 'vs']\"]\n"
          ],
          "name": "stdout"
        }
      ]
    },
    {
      "cell_type": "code",
      "metadata": {
        "id": "2GuNqfuLECJX"
      },
      "source": [
        "LE = LabelEncoder()\n",
        "y_le = LE.fit_transform(y)"
      ],
      "execution_count": null,
      "outputs": []
    },
    {
      "cell_type": "code",
      "metadata": {
        "id": "st-0cxhEEIbU",
        "colab": {
          "base_uri": "https://localhost:8080/"
        },
        "outputId": "9881013e-6f20-4c2b-b880-62939397a090"
      },
      "source": [
        "tfidf = TfidfVectorizer()\n",
        "x_tf = tfidf.fit_transform(x)\n",
        "\n",
        "print('Feature Names: ', tfidf.get_feature_names())\n",
        "print('Penilaian dari TF-IDF:', x_tf)\n",
        "print('Mapping dari Feature Names ke Penilaian:', tfidf.vocabulary_)\n",
        "\n",
        "x_tf = x_tf.toarray()"
      ],
      "execution_count": null,
      "outputs": [
        {
          "output_type": "stream",
          "text": [
            "Feature Names:  ['abstraction', 'acu', 'ad', 'adaptasi', 'ajar', 'akses', 'aktor', 'akurat', 'alami', 'alat', 'algoritma', 'algoritmanya', 'alternatif', 'aman', 'ambil', 'analis', 'analisis', 'analitik', 'analitis', 'analytic', 'analytical', 'analytics', 'and', 'anggap', 'angka', 'apa', 'aplikasi', 'application', 'approach', 'architecture', 'area', 'arena', 'arsitektur', 'artefak', 'aspek', 'assessing', 'association', 'atribut', 'atur', 'audiens', 'bagan', 'bagi', 'balanced', 'banding', 'bangun', 'banyak', 'barangbarang', 'baru', 'bas', 'baseline', 'basic', 'basis', 'batas', 'bawa', 'beda', 'beli', 'benar', 'bentuk', 'berisik', 'bersih', 'bertahuntahun', 'bi', 'biaya', 'big', 'bilah', 'bilang', 'bisnis', 'bpm', 'bsc', 'bspecialized', 'buat', 'buka', 'buruk', 'business', 'butuh', 'canggih', 'capai', 'categorical', 'categories', 'category', 'centrality', 'centralized', 'cepat', 'cerita', 'chain', 'challange', 'chart', 'charts', 'ciri', 'class', 'classification', 'closedloop', 'cocok', 'components', 'computional', 'contoh', 'crispdm', 'csf', 'dara', 'dasar', 'dashboard', 'data', 'dataset', 'daya', 'desain', 'design', 'deskripsi', 'deskriptif', 'dimensi', 'discover', 'diskrit', 'display', 'distribusi', 'domain', 'dorong', 'dss', 'dukung', 'efektif', 'efektivitas', 'efisien', 'efisiensi', 'eksplorasi', 'eksponensial', 'eksternal', 'empat', 'enterpriseexecutive', 'environtment', 'erti', 'evaluasi', 'events', 'fakta', 'faktor', 'fase', 'fisik', 'fokus', 'format', 'fungsi', 'gabung', 'gambar', 'gartner', 'grafik', 'graph', 'graphs', 'gudang', 'guna', 'hadoop', 'halaman', 'halhal', 'harga', 'harus', 'hasil', 'hilang', 'hindar', 'historis', 'hitung', 'hoc', 'horizontal', 'hubung', 'icons', 'ideal', 'identifikasi', 'imbang', 'implementasi', 'independen', 'independent', 'indikasi', 'indikator', 'individu', 'informasi', 'information', 'inmon', 'instanse', 'integrasi', 'intelektual', 'inteligent', 'intelligence', 'intelligent', 'internet', 'is', 'isi', 'istilah', 'jadi', 'janji', 'jelas', 'jenis', 'jual', 'juara', 'kait', 'kala', 'kali', 'karakteristik', 'kartu', 'kategori', 'kecuali', 'kelas', 'keliling', 'kelola', 'kelompok', 'kembang', 'kendara', 'kerangka', 'keras', 'kerja', 'kesana', 'key', 'khusus', 'klasifikasi', 'kode', 'koleksi', 'kombinasi', 'kompleks', 'komponen', 'komputasi', 'komputer', 'komunikasi', 'kondisi', 'konklusi', 'konstan', 'konteks', 'kontribusi', 'konversi', 'kpi', 'kredit', 'kriteria', 'kualitas', 'kuat', 'kueri', 'kumpul', 'label', 'laksana', 'langgan', 'lantai', 'lapor', 'layan', 'layar', 'lebih', 'level', 'libat', 'library', 'linier', 'lunak', 'main', 'maksud', 'mampu', 'mana', 'management', 'manajemen', 'mapreduce', 'mart', 'matriks', 'mean', 'media', 'memori', 'menghandle', 'mentas', 'mesin', 'metode', 'metodologi', 'metric', 'milik', 'minat', 'mining', 'minta', 'model', 'monitoring', 'muat', 'mudah', 'multiterstruktur', 'muncul', 'nali', 'nama', 'nilai', 'no', 'node', 'normalisasi', 'nosql', 'numeric', 'numerik', 'of', 'olap', 'oltp', 'onesizefitsall', 'operasional', 'organisasi', 'organisir', 'orientasi', 'pada', 'paham', 'pecah', 'pemrosesan', 'penuh', 'perangkat', 'percaya', 'performance', 'pergi', 'peristiwa', 'pilih', 'pindah', 'pisah', 'pointer', 'pola', 'populasi', 'populer', 'positif', 'pradiction', 'praktis', 'prediksi', 'prediktif', 'prediktor', 'preprocessing', 'privasi', 'probabilistik', 'process', 'produk', 'produkproduk', 'promosi', 'proses', 'proyek', 'puncak', 'pusat', 'pustaka', 'putus', 'rasio', 'rasional', 'readiness', 'regresi', 'rencana', 'rendah', 'rentang', 'report', 'reporting', 'representasi', 'requirement', 'respons', 'retail', 'risi', 'ritel', 'role', 'root', 'ruang', 'rurut', 'salah', 'sama', 'sample', 'sasar', 'satu', 'schema', 'science', 'scientist', 'scorecard', 'sebar', 'sederhana', 'sedia', 'segmentation', 'sejarah', 'semma', 'senior', 'series', 'sesuai', 'set', 'siap', 'sifat', 'simpan', 'simpul', 'sistem', 'skala', 'skalabilitas', 'sorot', 'spesifik', 'square', 'star', 'statistic', 'statistik', 'step', 'storage', 'strategic', 'strategis', 'strategy', 'struktur', 'subjectnya', 'subset', 'sumber', 'tabel', 'tambang', 'tampil', 'tanda', 'tangan', 'tanggung', 'tangkap', 'target', 'tata', 'taxonomy', 'technique', 'teknik', 'tempat', 'temu', 'terima', 'termaintan', 'test', 'tetap', 'there', 'threetier', 'ti', 'tier', 'tiga', 'time', 'timeordered', 'tingkat', 'tipe', 'tipu', 'tolok', 'tools', 'topdown', 'tradisional', 'transaksi', 'transformasi', 'trik', 'tuju', 'tumbuh', 'turun', 'type', 'ubah', 'ukur', 'ulang', 'unimodal', 'unit', 'untung', 'urai', 'usabilitas', 'usability', 'utama', 'value', 'variabel', 'vertikal', 'visual', 'visualisasi', 'volume', 'vs', 'waktunyata', 'warehouse', 'waris', 'wawas']\n",
            "Penilaian dari TF-IDF:   (0, 11)\t0.3067213864698881\n",
            "  (0, 75)\t0.3067213864698881\n",
            "  (0, 17)\t0.267309936263727\n",
            "  (0, 411)\t0.267309936263727\n",
            "  (0, 372)\t0.2546222831821095\n",
            "  (0, 307)\t0.3067213864698881\n",
            "  (0, 16)\t0.5673343320004895\n",
            "  (0, 387)\t0.3067213864698881\n",
            "  (0, 6)\t0.3067213864698881\n",
            "  (1, 174)\t0.4542730462368353\n",
            "  (1, 73)\t0.303386828038835\n",
            "  (1, 354)\t0.37711110252910435\n",
            "  (1, 178)\t0.42012834220463496\n",
            "  (1, 125)\t0.4542730462368353\n",
            "  (1, 134)\t0.42012834220463496\n",
            "  (2, 282)\t0.32909891454667317\n",
            "  (2, 101)\t0.11676539530959087\n",
            "  (2, 51)\t0.28337537993235457\n",
            "  (2, 47)\t0.35584546769647535\n",
            "  (2, 386)\t0.35584546769647535\n",
            "  (2, 237)\t0.32909891454667317\n",
            "  (2, 217)\t0.35584546769647535\n",
            "  (2, 414)\t0.32909891454667317\n",
            "  (2, 289)\t0.35584546769647535\n",
            "  (2, 364)\t0.27320681235741534\n",
            "  :\t:\n",
            "  (157, 101)\t0.23250805687254378\n",
            "  (158, 408)\t0.4063955692894901\n",
            "  (158, 302)\t0.37584949892864195\n",
            "  (158, 255)\t0.37584949892864195\n",
            "  (158, 4)\t0.37584949892864195\n",
            "  (158, 393)\t0.35417671710120413\n",
            "  (158, 392)\t0.33736600149902457\n",
            "  (158, 90)\t0.2930845763795079\n",
            "  (158, 206)\t0.2930845763795079\n",
            "  (159, 15)\t0.3608024347918699\n",
            "  (159, 71)\t0.3608024347918699\n",
            "  (159, 145)\t0.3608024347918699\n",
            "  (159, 200)\t0.3336832991704206\n",
            "  (159, 316)\t0.2602036949924122\n",
            "  (159, 362)\t0.28732283061386155\n",
            "  (159, 112)\t0.29951722891481236\n",
            "  (159, 202)\t0.28732283061386155\n",
            "  (159, 381)\t0.26808149767875183\n",
            "  (159, 378)\t0.29951722891481236\n",
            "  (159, 101)\t0.11839195030318736\n",
            "  (160, 135)\t0.5653641502685102\n",
            "  (160, 437)\t0.49271900050213274\n",
            "  (160, 63)\t0.3966873360686584\n",
            "  (160, 184)\t0.3775791622631524\n",
            "  (160, 101)\t0.3710316667924075\n",
            "Mapping dari Feature Names ke Penilaian: {'aktor': 6, 'tanggung': 387, 'analisis': 16, 'prediktif': 307, 'statistik': 372, 'tools': 411, 'analitik': 17, 'canggih': 75, 'algoritmanya': 11, 'fokus': 134, 'enterpriseexecutive': 125, 'is': 178, 'sejarah': 354, 'business': 73, 'inteligent': 174, 'sistem': 364, 'pemrosesan': 289, 'transaksi': 414, 'konstan': 217, 'libat': 237, 'tangan': 386, 'baru': 47, 'basis': 51, 'data': 101, 'operasional': 282, 'komponen': 211, 'kembang': 198, 'gartner': 139, 'urai': 427, 'rencana': 326, 'laksana': 229, 'bi': 61, 'kecuali': 193, 'utama': 430, 'informasi': 168, 'dukung': 116, 'ambil': 14, 'putus': 321, 'sedia': 352, 'lapor': 232, 'struktur': 378, 'kala': 188, 'intelligent': 176, 'csf': 97, 'intelligence': 175, 'harus': 149, 'cepat': 82, 'terima': 396, 'ubah': 421, 'adaptasi': 3, 'erti': 127, 'dss': 115, 'gabung': 137, 'sumber': 381, 'daya': 103, 'intelektual': 173, 'individu': 167, 'mampu': 243, 'komputer': 213, 'tingkat': 407, 'kualitas': 224, 'type': 420, 'of': 278, 'analytics': 21, 'istilah': 180, 'monitoring': 264, 'kerja': 202, 'arsitektur': 32, 'analytical': 20, 'aplikasi': 26, 'metodologi': 257, 'oltp': 280, 'retail': 334, 'value': 431, 'chain': 84, 'salah': 341, 'contoh': 95, 'environtment': 126, 'aspek': 34, 'milik': 259, 'scientist': 348, 'fase': 132, 'turun': 419, 'angka': 24, 'atribut': 37, 'taxonomy': 391, 'representasi': 331, 'numerik': 277, 'spesifik': 368, 'variabel': 432, 'karakteristik': 190, 'readiness': 324, 'aman': 13, 'level': 236, 'abstraction': 0, 'label': 228, 'class': 89, 'percaya': 292, 'benar': 56, 'indikator': 166, 'science': 347, 'analytic': 19, 'algoritma': 10, 'mining': 261, 'klasifikasi': 206, 'categorical': 77, 'numeric': 276, 'kondisi': 215, 'apa': 25, 'dara': 98, 'preprocessing': 309, 'ukur': 422, 'menghandle': 253, 'hilang': 151, 'nilai': 271, 'akses': 5, 'koleksi': 208, 'normalisasi': 274, 'deskripsi': 106, 'konklusi': 216, 'simpul': 363, 'nama': 270, 'hitung': 154, 'sebar': 350, 'subset': 380, 'dataset': 102, 'bagi': 41, 'banyak': 45, 'evaluasi': 128, 'regresi': 325, 'model': 263, 'metode': 256, 'root': 338, 'mean': 250, 'square': 369, 'tuju': 417, 'ciri': 88, 'bentuk': 57, 'distribusi': 112, 'unimodal': 424, 'centrality': 80, 'gambar': 138, 'probabilistik': 311, 'jelas': 183, 'prediktor': 308, 'kelas': 194, 'respons': 333, 'jenis': 184, 'sample': 343, 'statistic': 371, 'role': 337, 'information': 169, 'reporting': 330, 'chart': 86, 'cocok': 92, 'sifat': 361, 'time': 405, 'series': 357, 'deskriptif': 107, 'matriks': 249, 'guna': 144, 'visual': 434, 'eksplorasi': 121, 'paham': 287, 'komunikasi': 214, 'kategori': 192, 'bisnis': 66, 'report': 329, 'tampil': 384, 'metric': 258, 'bspecialized': 69, 'charts': 87, 'and': 22, 'graphs': 142, 'atur': 38, 'praktis': 305, 'pilih': 296, 'sederhana': 351, 'alternatif': 12, 'buat': 70, 'mudah': 266, 'audiens': 39, 'banding': 43, 'populasi': 301, 'artefak': 33, 'siap': 360, 'maksud': 242, 'khusus': 205, 'grafik': 140, 'categories': 78, 'basic': 50, 'graph': 141, 'internet': 177, 'muncul': 268, 'media': 251, 'visualisasi': 435, 'bawa': 53, 'trik': 416, 'display': 111, 'library': 238, 'buruk': 72, 'desain': 104, 'dashboard': 100, 'pisah': 298, 'kait': 187, 'konteks': 218, 'pada': 286, 'lebih': 235, 'batas': 52, 'layar': 234, 'sorot': 367, 'domain': 113, 'icons': 158, 'capai': 76, 'risi': 335, 'test': 398, 'usability': 429, 'usabilitas': 428, 'design': 105, 'efektif': 117, 'efektivitas': 118, 'waris': 440, 'independen': 163, 'eksternal': 123, 'muat': 265, 'area': 30, 'mentas': 254, 'transformasi': 415, 'bersih': 59, 'threetier': 401, 'warehouse': 439, 'tier': 403, 'strategic': 375, 'unit': 425, 'simpan': 362, 'termaintan': 397, 'process': 312, 'independent': 164, 'mart': 248, 'architecture': 29, 'organisir': 284, 'dasar': 99, 'subjectnya': 379, 'big': 63, 'skala': 365, 'centralized': 81, 'storage': 374, 'skalabilitas': 366, 'kueri': 226, 'fungsi': 136, 'tumbuh': 418, 'ideal': 159, 'linier': 239, 'there': 400, 'no': 272, 'onesizefitsall': 281, 'strategy': 377, 'inmon': 170, 'topdown': 412, 'approach': 28, 'kendara': 199, 'dorong': 114, 'gudang': 143, 'horizontal': 156, 'vertikal': 433, 'star': 370, 'schema': 346, 'isi': 179, 'tabel': 382, 'fakta': 130, 'pusat': 319, 'keliling': 195, 'hubung': 157, 'dimensi': 108, 'bas': 48, 'minta': 262, 'volume': 436, 'kriteria': 223, 'olap': 279, 'alat': 9, 'rasional': 323, 'tradisional': 413, 'butuh': 74, 'integrasi': 172, 'proses': 316, 'ruang': 339, 'janji': 182, 'waktunyata': 438, 'implementasi': 162, 'hindar': 152, 'hasil': 150, 'manajemen': 246, 'senior': 356, 'kuat': 225, 'juara': 186, 'proyek': 317, 'puncak': 318, 'bagan': 40, 'organisasi': 283, 'orientasi': 285, 'halaman': 146, 'ad': 2, 'hoc': 155, 'kpi': 221, 'rentang': 328, 'kode': 207, 'perangkat': 291, 'lunak': 240, 'sasar': 344, 'target': 389, 'kerangka': 200, 'penuh': 290, 'closedloop': 91, 'bpm': 67, 'beda': 54, 'indikasi': 165, 'baseline': 49, 'tolok': 410, 'mana': 244, 'pergi': 294, 'key': 204, 'components': 93, 'kesana': 203, 'strategis': 376, 'pointer': 299, 'bilah': 64, 'tanda': 385, 'balanced': 42, 'scorecard': 349, 'bsc': 68, 'performance': 293, 'management': 245, 'identifikasi': 160, 'kelompok': 197, 'alami': 8, 'halhal': 147, 'discover': 109, 'timeordered': 406, 'events': 129, 'step': 373, 'tiga': 404, 'crispdm': 96, 'application': 27, 'main': 241, 'category': 79, 'segmentation': 353, 'satu': 345, 'semma': 355, 'empat': 124, 'cerita': 83, 'jadi': 181, 'peristiwa': 295, 'pradiction': 304, 'association': 36, 'temu': 395, 'rasio': 322, 'instanse': 171, 'assessing': 35, 'classification': 90, 'wawas': 441, 'biaya': 62, 'komputasi': 212, 'anggap': 23, 'barangbarang': 46, 'beli': 55, 'kartu': 191, 'kredit': 222, 'produkproduk': 314, 'langgan': 230, 'tipu': 409, 'technique': 392, 'historis': 153, 'nali': 269, 'sama': 342, 'tetap': 399, 'bangun': 44, 'prediksi': 306, 'efisien': 119, 'bertahuntahun': 60, 'teknik': 393, 'ajar': 4, 'mesin': 255, 'positif': 303, 'akurat': 7, 'berisik': 58, 'bilang': 65, 'populer': 302, 'arena': 31, 'tambang': 383, 'kombinasi': 209, 'produk': 313, 'ritel': 336, 'tempat': 394, 'lantai': 231, 'jual': 185, 'harga': 148, 'promosi': 315, 'pola': 300, 'rurut': 340, 'layan': 233, 'minat': 260, 'computional': 94, 'requirement': 332, 'efisiensi': 120, 'rendah': 327, 'kumpul': 227, 'ti': 402, 'kelola': 196, 'tata': 390, 'pindah': 297, 'konversi': 220, 'ulang': 423, 'kali': 189, 'challange': 85, 'tangkap': 388, 'pustaka': 320, 'mapreduce': 247, 'nosql': 275, 'diskrit': 110, 'multiterstruktur': 267, 'faktor': 131, 'kontribusi': 219, 'eksponensial': 122, 'vs': 437, 'imbang': 161, 'privasi': 310, 'pecah': 288, 'kompleks': 210, 'analitis': 18, 'memori': 252, 'set': 359, 'node': 273, 'keras': 201, 'fisik': 133, 'acu': 1, 'sesuai': 358, 'untung': 426, 'tipe': 408, 'hadoop': 145, 'buka': 71, 'analis': 15, 'format': 135}\n"
          ],
          "name": "stdout"
        }
      ]
    },
    {
      "cell_type": "code",
      "metadata": {
        "id": "9yfrSw8EE8a9",
        "colab": {
          "base_uri": "https://localhost:8080/"
        },
        "outputId": "77e0923c-5813-4bdb-efb5-f301b25085f0"
      },
      "source": [
        "print(Counter(y))\n",
        "print(\"------------\")\n",
        "\n",
        "#define oversampling strategy\n",
        "oversample = SMOTE()\n",
        "\n",
        "#fit and apply the transform\n",
        "x_over, y_over = oversample.fit_resample(x_tf, y_le)\n",
        "\n",
        "#summarize class distribution\n",
        "print(\"------------\")\n",
        "print(Counter(y_over))"
      ],
      "execution_count": null,
      "outputs": [
        {
          "output_type": "stream",
          "text": [
            "Counter({'C1': 114, 'C3': 38, 'C2': 9})\n",
            "------------\n",
            "------------\n",
            "Counter({0: 114, 2: 114, 1: 114})\n"
          ],
          "name": "stdout"
        },
        {
          "output_type": "stream",
          "text": [
            "/usr/local/lib/python3.7/dist-packages/sklearn/utils/deprecation.py:87: FutureWarning: Function safe_indexing is deprecated; safe_indexing is deprecated in version 0.22 and will be removed in version 0.24.\n",
            "  warnings.warn(msg, category=FutureWarning)\n",
            "/usr/local/lib/python3.7/dist-packages/sklearn/utils/deprecation.py:87: FutureWarning: Function safe_indexing is deprecated; safe_indexing is deprecated in version 0.22 and will be removed in version 0.24.\n",
            "  warnings.warn(msg, category=FutureWarning)\n"
          ],
          "name": "stderr"
        }
      ]
    },
    {
      "cell_type": "code",
      "metadata": {
        "id": "yH67cIicNelf",
        "colab": {
          "base_uri": "https://localhost:8080/"
        },
        "outputId": "0a720927-ca68-4c86-e00d-70e864edf52d"
      },
      "source": [
        "print(x_over)"
      ],
      "execution_count": null,
      "outputs": [
        {
          "output_type": "stream",
          "text": [
            "[[0. 0. 0. ... 0. 0. 0.]\n",
            " [0. 0. 0. ... 0. 0. 0.]\n",
            " [0. 0. 0. ... 0. 0. 0.]\n",
            " ...\n",
            " [0. 0. 0. ... 0. 0. 0.]\n",
            " [0. 0. 0. ... 0. 0. 0.]\n",
            " [0. 0. 0. ... 0. 0. 0.]]\n"
          ],
          "name": "stdout"
        }
      ]
    },
    {
      "cell_type": "code",
      "metadata": {
        "id": "G2vvEPbQNjxW",
        "colab": {
          "base_uri": "https://localhost:8080/"
        },
        "outputId": "f9b64c0c-4072-4ba3-8516-e267758f1445"
      },
      "source": [
        "print(y_over)"
      ],
      "execution_count": null,
      "outputs": [
        {
          "output_type": "stream",
          "text": [
            "[0 0 0 2 0 2 0 0 2 0 0 2 1 2 2 0 0 2 2 0 0 0 0 0 0 2 0 0 0 0 0 0 0 0 0 0 2\n",
            " 2 0 2 0 0 2 0 2 2 1 0 0 1 2 0 1 0 1 2 2 1 0 2 0 2 2 2 0 0 2 2 0 1 2 2 2 2\n",
            " 0 0 0 0 0 0 0 2 0 0 0 0 0 0 0 0 0 0 0 0 0 2 0 2 0 2 0 0 0 0 0 0 0 0 0 0 2\n",
            " 0 0 0 1 0 2 0 0 0 0 2 2 0 0 2 0 0 0 0 0 0 0 0 0 0 0 0 0 0 0 0 0 0 0 0 0 0\n",
            " 0 0 0 0 0 0 0 1 0 2 0 0 0 1 1 1 1 1 1 1 1 1 1 1 1 1 1 1 1 1 1 1 1 1 1 1 1\n",
            " 1 1 1 1 1 1 1 1 1 1 1 1 1 1 1 1 1 1 1 1 1 1 1 1 1 1 1 1 1 1 1 1 1 1 1 1 1\n",
            " 1 1 1 1 1 1 1 1 1 1 1 1 1 1 1 1 1 1 1 1 1 1 1 1 1 1 1 1 1 1 1 1 1 1 1 1 1\n",
            " 1 1 1 1 1 1 1 2 2 2 2 2 2 2 2 2 2 2 2 2 2 2 2 2 2 2 2 2 2 2 2 2 2 2 2 2 2\n",
            " 2 2 2 2 2 2 2 2 2 2 2 2 2 2 2 2 2 2 2 2 2 2 2 2 2 2 2 2 2 2 2 2 2 2 2 2 2\n",
            " 2 2 2 2 2 2 2 2 2]\n"
          ],
          "name": "stdout"
        }
      ]
    },
    {
      "cell_type": "code",
      "metadata": {
        "id": "zi0MpiXZRok9",
        "colab": {
          "base_uri": "https://localhost:8080/",
          "height": 591
        },
        "outputId": "af74b9d9-8572-44ab-f565-6277e7baf1ae"
      },
      "source": [
        "import collections\n",
        "import matplotlib.pyplot as plt\n",
        "import seaborn as sns\n",
        "w = collections.Counter(y)\n",
        "plt.figure(figsize=(15,10))\n",
        "plt.bar(w.keys(), w.values())\n",
        "plt.savefig('/content/drive/MyDrive/PER-TA-AN DUNIAWI/sebelum2.png')\n",
        "plt.show()"
      ],
      "execution_count": null,
      "outputs": [
        {
          "output_type": "display_data",
          "data": {
            "image/png": "[encoded data removed]",
            "text/plain": [
              "<Figure size 1080x720 with 1 Axes>"
            ]
          },
          "metadata": {
            "tags": [],
            "needs_background": "light"
          }
        }
      ]
    },
    {
      "cell_type": "code",
      "metadata": {
        "id": "_h5QjttKSrh7",
        "colab": {
          "base_uri": "https://localhost:8080/",
          "height": 591
        },
        "outputId": "d871c6fe-2613-4e93-8f78-8cbdc8f0da5a"
      },
      "source": [
        "import collections\n",
        "import matplotlib.pyplot as plt\n",
        "import seaborn as sns\n",
        "w = collections.Counter(y_over)\n",
        "plt.figure(figsize=(15,10))\n",
        "plt.bar(w.keys(), w.values())\n",
        "plt.savefig('/content/drive/MyDrive/PER-TA-AN DUNIAWI/sesudah2.png')\n",
        "plt.show()"
      ],
      "execution_count": null,
      "outputs": [
        {
          "output_type": "display_data",
          "data": {
            "image/png": "[encoded data removed]",
            "text/plain": [
              "<Figure size 1080x720 with 1 Axes>"
            ]
          },
          "metadata": {
            "tags": [],
            "needs_background": "light"
          }
        }
      ]
    },
    {
      "cell_type": "code",
      "metadata": {
        "id": "qs9TQE6QS3lg"
      },
      "source": [
        "#xtrain, xtest, ytrain, ytest = train_test_split(x_over, y_over, test_size = 0.3)"
      ],
      "execution_count": null,
      "outputs": []
    },
    {
      "cell_type": "code",
      "metadata": {
        "id": "lcF5Dl7BbP5S",
        "colab": {
          "base_uri": "https://localhost:8080/",
          "height": 1000
        },
        "outputId": "9d996877-c07e-4e84-8897-059fc1b5ea6c"
      },
      "source": [
        "#seeblum smote\n",
        "import numpy as np\n",
        "from sklearn.model_selection import KFold\n",
        "X = x_tf\n",
        "y = y_le\n",
        "kf = KFold(n_splits=10)\n",
        "kf.get_n_splits(X)\n",
        "\n",
        "font = {'family' : 'normal',\n",
        "        'weight' : 'bold',\n",
        "        'size'   : 8}\n",
        "print(kf)\n",
        "KFold(n_splits=10, random_state=None, shuffle=True)\n",
        "for train_index, test_index in kf.split(X):\n",
        "     X_train, X_test = X[train_index], X[test_index]\n",
        "     y_train, y_test = y[train_index], y[test_index]\n",
        "     print(\"TRAIN:\", train_index, \"TEST:\", test_index)\n",
        "     plt.rc('font', **font)\n",
        "     w = collections.Counter(y_train)\n",
        "     z = collections.Counter(y_test)\n",
        "     plt.figure(figsize=(5,8))\n",
        "     plt.bar(w.keys(), w.values())\n",
        "     plt.bar(z.keys(), z.values())\n",
        "     plt.xticks([1, 0, 2], ['C2', 'C1', 'C3'])\n",
        "     plt.legend(['Testing', 'Training'], loc='upper right')\n",
        "     plt.show()"
      ],
      "execution_count": null,
      "outputs": [
        {
          "output_type": "stream",
          "text": [
            "KFold(n_splits=10, random_state=None, shuffle=False)\n",
            "TRAIN: [ 17  18  19  20  21  22  23  24  25  26  27  28  29  30  31  32  33  34\n",
            "  35  36  37  38  39  40  41  42  43  44  45  46  47  48  49  50  51  52\n",
            "  53  54  55  56  57  58  59  60  61  62  63  64  65  66  67  68  69  70\n",
            "  71  72  73  74  75  76  77  78  79  80  81  82  83  84  85  86  87  88\n",
            "  89  90  91  92  93  94  95  96  97  98  99 100 101 102 103 104 105 106\n",
            " 107 108 109 110 111 112 113 114 115 116 117 118 119 120 121 122 123 124\n",
            " 125 126 127 128 129 130 131 132 133 134 135 136 137 138 139 140 141 142\n",
            " 143 144 145 146 147 148 149 150 151 152 153 154 155 156 157 158 159 160] TEST: [ 0  1  2  3  4  5  6  7  8  9 10 11 12 13 14 15 16]\n"
          ],
          "name": "stdout"
        },
        {
          "output_type": "display_data",
          "data": {
            "image/png": "[encoded data removed]",
            "text/plain": [
              "<Figure size 360x576 with 1 Axes>"
            ]
          },
          "metadata": {
            "tags": [],
            "needs_background": "light"
          }
        },
        {
          "output_type": "stream",
          "text": [
            "TRAIN: [  0   1   2   3   4   5   6   7   8   9  10  11  12  13  14  15  16  33\n",
            "  34  35  36  37  38  39  40  41  42  43  44  45  46  47  48  49  50  51\n",
            "  52  53  54  55  56  57  58  59  60  61  62  63  64  65  66  67  68  69\n",
            "  70  71  72  73  74  75  76  77  78  79  80  81  82  83  84  85  86  87\n",
            "  88  89  90  91  92  93  94  95  96  97  98  99 100 101 102 103 104 105\n",
            " 106 107 108 109 110 111 112 113 114 115 116 117 118 119 120 121 122 123\n",
            " 124 125 126 127 128 129 130 131 132 133 134 135 136 137 138 139 140 141\n",
            " 142 143 144 145 146 147 148 149 150 151 152 153 154 155 156 157 158 159\n",
            " 160] TEST: [17 18 19 20 21 22 23 24 25 26 27 28 29 30 31 32]\n"
          ],
          "name": "stdout"
        },
        {
          "output_type": "display_data",
          "data": {
            "image/png": "[encoded data removed]",
            "text/plain": [
              "<Figure size 360x576 with 1 Axes>"
            ]
          },
          "metadata": {
            "tags": [],
            "needs_background": "light"
          }
        },
        {
          "output_type": "stream",
          "text": [
            "TRAIN: [  0   1   2   3   4   5   6   7   8   9  10  11  12  13  14  15  16  17\n",
            "  18  19  20  21  22  23  24  25  26  27  28  29  30  31  32  49  50  51\n",
            "  52  53  54  55  56  57  58  59  60  61  62  63  64  65  66  67  68  69\n",
            "  70  71  72  73  74  75  76  77  78  79  80  81  82  83  84  85  86  87\n",
            "  88  89  90  91  92  93  94  95  96  97  98  99 100 101 102 103 104 105\n",
            " 106 107 108 109 110 111 112 113 114 115 116 117 118 119 120 121 122 123\n",
            " 124 125 126 127 128 129 130 131 132 133 134 135 136 137 138 139 140 141\n",
            " 142 143 144 145 146 147 148 149 150 151 152 153 154 155 156 157 158 159\n",
            " 160] TEST: [33 34 35 36 37 38 39 40 41 42 43 44 45 46 47 48]\n"
          ],
          "name": "stdout"
        },
        {
          "output_type": "display_data",
          "data": {
            "image/png": "[encoded data removed]",
            "text/plain": [
              "<Figure size 360x576 with 1 Axes>"
            ]
          },
          "metadata": {
            "tags": [],
            "needs_background": "light"
          }
        },
        {
          "output_type": "stream",
          "text": [
            "TRAIN: [  0   1   2   3   4   5   6   7   8   9  10  11  12  13  14  15  16  17\n",
            "  18  19  20  21  22  23  24  25  26  27  28  29  30  31  32  33  34  35\n",
            "  36  37  38  39  40  41  42  43  44  45  46  47  48  65  66  67  68  69\n",
            "  70  71  72  73  74  75  76  77  78  79  80  81  82  83  84  85  86  87\n",
            "  88  89  90  91  92  93  94  95  96  97  98  99 100 101 102 103 104 105\n",
            " 106 107 108 109 110 111 112 113 114 115 116 117 118 119 120 121 122 123\n",
            " 124 125 126 127 128 129 130 131 132 133 134 135 136 137 138 139 140 141\n",
            " 142 143 144 145 146 147 148 149 150 151 152 153 154 155 156 157 158 159\n",
            " 160] TEST: [49 50 51 52 53 54 55 56 57 58 59 60 61 62 63 64]\n"
          ],
          "name": "stdout"
        },
        {
          "output_type": "display_data",
          "data": {
            "image/png": "[encoded data removed]",
            "text/plain": [
              "<Figure size 360x576 with 1 Axes>"
            ]
          },
          "metadata": {
            "tags": [],
            "needs_background": "light"
          }
        },
        {
          "output_type": "stream",
          "text": [
            "TRAIN: [  0   1   2   3   4   5   6   7   8   9  10  11  12  13  14  15  16  17\n",
            "  18  19  20  21  22  23  24  25  26  27  28  29  30  31  32  33  34  35\n",
            "  36  37  38  39  40  41  42  43  44  45  46  47  48  49  50  51  52  53\n",
            "  54  55  56  57  58  59  60  61  62  63  64  81  82  83  84  85  86  87\n",
            "  88  89  90  91  92  93  94  95  96  97  98  99 100 101 102 103 104 105\n",
            " 106 107 108 109 110 111 112 113 114 115 116 117 118 119 120 121 122 123\n",
            " 124 125 126 127 128 129 130 131 132 133 134 135 136 137 138 139 140 141\n",
            " 142 143 144 145 146 147 148 149 150 151 152 153 154 155 156 157 158 159\n",
            " 160] TEST: [65 66 67 68 69 70 71 72 73 74 75 76 77 78 79 80]\n"
          ],
          "name": "stdout"
        },
        {
          "output_type": "display_data",
          "data": {
            "image/png": "[encoded data removed]",
            "text/plain": [
              "<Figure size 360x576 with 1 Axes>"
            ]
          },
          "metadata": {
            "tags": [],
            "needs_background": "light"
          }
        },
        {
          "output_type": "stream",
          "text": [
            "TRAIN: [  0   1   2   3   4   5   6   7   8   9  10  11  12  13  14  15  16  17\n",
            "  18  19  20  21  22  23  24  25  26  27  28  29  30  31  32  33  34  35\n",
            "  36  37  38  39  40  41  42  43  44  45  46  47  48  49  50  51  52  53\n",
            "  54  55  56  57  58  59  60  61  62  63  64  65  66  67  68  69  70  71\n",
            "  72  73  74  75  76  77  78  79  80  97  98  99 100 101 102 103 104 105\n",
            " 106 107 108 109 110 111 112 113 114 115 116 117 118 119 120 121 122 123\n",
            " 124 125 126 127 128 129 130 131 132 133 134 135 136 137 138 139 140 141\n",
            " 142 143 144 145 146 147 148 149 150 151 152 153 154 155 156 157 158 159\n",
            " 160] TEST: [81 82 83 84 85 86 87 88 89 90 91 92 93 94 95 96]\n"
          ],
          "name": "stdout"
        },
        {
          "output_type": "display_data",
          "data": {
            "image/png": "[encoded data removed]",
            "text/plain": [
              "<Figure size 360x576 with 1 Axes>"
            ]
          },
          "metadata": {
            "tags": [],
            "needs_background": "light"
          }
        },
        {
          "output_type": "stream",
          "text": [
            "TRAIN: [  0   1   2   3   4   5   6   7   8   9  10  11  12  13  14  15  16  17\n",
            "  18  19  20  21  22  23  24  25  26  27  28  29  30  31  32  33  34  35\n",
            "  36  37  38  39  40  41  42  43  44  45  46  47  48  49  50  51  52  53\n",
            "  54  55  56  57  58  59  60  61  62  63  64  65  66  67  68  69  70  71\n",
            "  72  73  74  75  76  77  78  79  80  81  82  83  84  85  86  87  88  89\n",
            "  90  91  92  93  94  95  96 113 114 115 116 117 118 119 120 121 122 123\n",
            " 124 125 126 127 128 129 130 131 132 133 134 135 136 137 138 139 140 141\n",
            " 142 143 144 145 146 147 148 149 150 151 152 153 154 155 156 157 158 159\n",
            " 160] TEST: [ 97  98  99 100 101 102 103 104 105 106 107 108 109 110 111 112]\n"
          ],
          "name": "stdout"
        },
        {
          "output_type": "display_data",
          "data": {
            "image/png": "[encoded data removed]",
            "text/plain": [
              "<Figure size 360x576 with 1 Axes>"
            ]
          },
          "metadata": {
            "tags": [],
            "needs_background": "light"
          }
        },
        {
          "output_type": "stream",
          "text": [
            "TRAIN: [  0   1   2   3   4   5   6   7   8   9  10  11  12  13  14  15  16  17\n",
            "  18  19  20  21  22  23  24  25  26  27  28  29  30  31  32  33  34  35\n",
            "  36  37  38  39  40  41  42  43  44  45  46  47  48  49  50  51  52  53\n",
            "  54  55  56  57  58  59  60  61  62  63  64  65  66  67  68  69  70  71\n",
            "  72  73  74  75  76  77  78  79  80  81  82  83  84  85  86  87  88  89\n",
            "  90  91  92  93  94  95  96  97  98  99 100 101 102 103 104 105 106 107\n",
            " 108 109 110 111 112 129 130 131 132 133 134 135 136 137 138 139 140 141\n",
            " 142 143 144 145 146 147 148 149 150 151 152 153 154 155 156 157 158 159\n",
            " 160] TEST: [113 114 115 116 117 118 119 120 121 122 123 124 125 126 127 128]\n"
          ],
          "name": "stdout"
        },
        {
          "output_type": "display_data",
          "data": {
            "image/png": "[encoded data removed]",
            "text/plain": [
              "<Figure size 360x576 with 1 Axes>"
            ]
          },
          "metadata": {
            "tags": [],
            "needs_background": "light"
          }
        },
        {
          "output_type": "stream",
          "text": [
            "TRAIN: [  0   1   2   3   4   5   6   7   8   9  10  11  12  13  14  15  16  17\n",
            "  18  19  20  21  22  23  24  25  26  27  28  29  30  31  32  33  34  35\n",
            "  36  37  38  39  40  41  42  43  44  45  46  47  48  49  50  51  52  53\n",
            "  54  55  56  57  58  59  60  61  62  63  64  65  66  67  68  69  70  71\n",
            "  72  73  74  75  76  77  78  79  80  81  82  83  84  85  86  87  88  89\n",
            "  90  91  92  93  94  95  96  97  98  99 100 101 102 103 104 105 106 107\n",
            " 108 109 110 111 112 113 114 115 116 117 118 119 120 121 122 123 124 125\n",
            " 126 127 128 145 146 147 148 149 150 151 152 153 154 155 156 157 158 159\n",
            " 160] TEST: [129 130 131 132 133 134 135 136 137 138 139 140 141 142 143 144]\n"
          ],
          "name": "stdout"
        },
        {
          "output_type": "display_data",
          "data": {
            "image/png": "[encoded data removed]",
            "text/plain": [
              "<Figure size 360x576 with 1 Axes>"
            ]
          },
          "metadata": {
            "tags": [],
            "needs_background": "light"
          }
        },
        {
          "output_type": "stream",
          "text": [
            "TRAIN: [  0   1   2   3   4   5   6   7   8   9  10  11  12  13  14  15  16  17\n",
            "  18  19  20  21  22  23  24  25  26  27  28  29  30  31  32  33  34  35\n",
            "  36  37  38  39  40  41  42  43  44  45  46  47  48  49  50  51  52  53\n",
            "  54  55  56  57  58  59  60  61  62  63  64  65  66  67  68  69  70  71\n",
            "  72  73  74  75  76  77  78  79  80  81  82  83  84  85  86  87  88  89\n",
            "  90  91  92  93  94  95  96  97  98  99 100 101 102 103 104 105 106 107\n",
            " 108 109 110 111 112 113 114 115 116 117 118 119 120 121 122 123 124 125\n",
            " 126 127 128 129 130 131 132 133 134 135 136 137 138 139 140 141 142 143\n",
            " 144] TEST: [145 146 147 148 149 150 151 152 153 154 155 156 157 158 159 160]\n"
          ],
          "name": "stdout"
        },
        {
          "output_type": "display_data",
          "data": {
            "image/png": "[encoded data removed]",
            "text/plain": [
              "<Figure size 360x576 with 1 Axes>"
            ]
          },
          "metadata": {
            "tags": [],
            "needs_background": "light"
          }
        }
      ]
    },
    {
      "cell_type": "code",
      "metadata": {
        "id": "XiVl2RLDS_pt"
      },
      "source": [
        "pipeline_nb = Pipeline([  \n",
        "    ('tfidf', TfidfTransformer()),  \n",
        "    ('classifier', naive_bayes.MultinomialNB()),  \n",
        "])"
      ],
      "execution_count": null,
      "outputs": []
    },
    {
      "cell_type": "code",
      "metadata": {
        "id": "6XySzwVqTXMo",
        "colab": {
          "base_uri": "https://localhost:8080/"
        },
        "outputId": "45558666-4875-426e-bcfe-2b7b7edf2352"
      },
      "source": [
        "pipeline_nb.fit(X_train, y_train)"
      ],
      "execution_count": null,
      "outputs": [
        {
          "output_type": "execute_result",
          "data": {
            "text/plain": [
              "Pipeline(memory=None,\n",
              "         steps=[('tfidf',\n",
              "                 TfidfTransformer(norm='l2', smooth_idf=True,\n",
              "                                  sublinear_tf=False, use_idf=True)),\n",
              "                ('classifier',\n",
              "                 MultinomialNB(alpha=1.0, class_prior=None, fit_prior=True))],\n",
              "         verbose=False)"
            ]
          },
          "metadata": {
            "tags": []
          },
          "execution_count": 55
        }
      ]
    },
    {
      "cell_type": "code",
      "metadata": {
        "id": "WuXYP8AgTdAT"
      },
      "source": [
        "prediction_nb = pipeline_nb.predict(X_test)"
      ],
      "execution_count": null,
      "outputs": []
    },
    {
      "cell_type": "code",
      "metadata": {
        "id": "HrOw_8cVTitx",
        "colab": {
          "base_uri": "https://localhost:8080/"
        },
        "outputId": "a911d38c-7f03-4e0e-ee6b-47ab2e67f4c5"
      },
      "source": [
        "from sklearn.metrics import accuracy_score\n",
        "print('Model accuracy score: {0:0.4f}'. format(accuracy_score(y_test, prediction_nb)))"
      ],
      "execution_count": null,
      "outputs": [
        {
          "output_type": "stream",
          "text": [
            "Model accuracy score: 0.8750\n"
          ],
          "name": "stdout"
        }
      ]
    },
    {
      "cell_type": "code",
      "metadata": {
        "id": "G3Rn7bQKT1sD"
      },
      "source": [
        "pipeline_svm = Pipeline([  \n",
        "    ('tfidf', TfidfTransformer()),  \n",
        "    ('classifier', svm.SVC()),  \n",
        "])"
      ],
      "execution_count": null,
      "outputs": []
    },
    {
      "cell_type": "code",
      "metadata": {
        "id": "kIaHTzlTW56a",
        "colab": {
          "base_uri": "https://localhost:8080/"
        },
        "outputId": "f9714861-f323-4ccc-8802-a2616afef025"
      },
      "source": [
        "pipeline_svm.fit(X_train, y_train)"
      ],
      "execution_count": null,
      "outputs": [
        {
          "output_type": "execute_result",
          "data": {
            "text/plain": [
              "Pipeline(memory=None,\n",
              "         steps=[('tfidf',\n",
              "                 TfidfTransformer(norm='l2', smooth_idf=True,\n",
              "                                  sublinear_tf=False, use_idf=True)),\n",
              "                ('classifier',\n",
              "                 SVC(C=1.0, break_ties=False, cache_size=200, class_weight=None,\n",
              "                     coef0=0.0, decision_function_shape='ovr', degree=3,\n",
              "                     gamma='scale', kernel='rbf', max_iter=-1,\n",
              "                     probability=False, random_state=None, shrinking=True,\n",
              "                     tol=0.001, verbose=False))],\n",
              "         verbose=False)"
            ]
          },
          "metadata": {
            "tags": []
          },
          "execution_count": 59
        }
      ]
    },
    {
      "cell_type": "code",
      "metadata": {
        "id": "sUo-OAfiW9ck"
      },
      "source": [
        "prediction_svm = pipeline_svm.predict(X_test)"
      ],
      "execution_count": null,
      "outputs": []
    },
    {
      "cell_type": "code",
      "metadata": {
        "colab": {
          "base_uri": "https://localhost:8080/",
          "height": 1000
        },
        "id": "AEeZbVXigKYe",
        "outputId": "4cf503a8-1ab9-43c8-d4fa-c1874d62e77c"
      },
      "source": [
        "#setelah smote\n",
        "import numpy as np\n",
        "from sklearn.model_selection import KFold\n",
        "X = x_over\n",
        "y = y_over\n",
        "kf = KFold(n_splits=10) #k=2 utk testing dan training\n",
        "kf.get_n_splits(X)\n",
        "\n",
        "font = {'family' : 'normal',\n",
        "        'weight' : 'bold',\n",
        "        'size'   : 8}\n",
        "print(kf)\n",
        "KFold(n_splits=10, random_state=None, shuffle=True)\n",
        "for train_index, test_index in kf.split(X):\n",
        "     X_train_smote, X_test_smote = X[train_index], X[test_index]\n",
        "     y_train_smote, y_test_smote = y[train_index], y[test_index]\n",
        "     print(\"TRAIN:\", train_index, \"TEST:\", test_index)\n",
        "     plt.rc('font', **font)\n",
        "     w = collections.Counter(y_train_smote)\n",
        "     z = collections.Counter(y_test_smote)\n",
        "     plt.figure(figsize=(5,8))\n",
        "     plt.bar(w.keys(), w.values())\n",
        "     plt.bar(z.keys(), z.values())\n",
        "     plt.xticks([1, 0, 2], ['C2', 'C1', 'C3'])\n",
        "     plt.legend(['Testing', 'Training'], loc='upper right')\n",
        "     plt.show()"
      ],
      "execution_count": null,
      "outputs": [
        {
          "output_type": "stream",
          "text": [
            "KFold(n_splits=10, random_state=None, shuffle=False)\n",
            "TRAIN: [ 35  36  37  38  39  40  41  42  43  44  45  46  47  48  49  50  51  52\n",
            "  53  54  55  56  57  58  59  60  61  62  63  64  65  66  67  68  69  70\n",
            "  71  72  73  74  75  76  77  78  79  80  81  82  83  84  85  86  87  88\n",
            "  89  90  91  92  93  94  95  96  97  98  99 100 101 102 103 104 105 106\n",
            " 107 108 109 110 111 112 113 114 115 116 117 118 119 120 121 122 123 124\n",
            " 125 126 127 128 129 130 131 132 133 134 135 136 137 138 139 140 141 142\n",
            " 143 144 145 146 147 148 149 150 151 152 153 154 155 156 157 158 159 160\n",
            " 161 162 163 164 165 166 167 168 169 170 171 172 173 174 175 176 177 178\n",
            " 179 180 181 182 183 184 185 186 187 188 189 190 191 192 193 194 195 196\n",
            " 197 198 199 200 201 202 203 204 205 206 207 208 209 210 211 212 213 214\n",
            " 215 216 217 218 219 220 221 222 223 224 225 226 227 228 229 230 231 232\n",
            " 233 234 235 236 237 238 239 240 241 242 243 244 245 246 247 248 249 250\n",
            " 251 252 253 254 255 256 257 258 259 260 261 262 263 264 265 266 267 268\n",
            " 269 270 271 272 273 274 275 276 277 278 279 280 281 282 283 284 285 286\n",
            " 287 288 289 290 291 292 293 294 295 296 297 298 299 300 301 302 303 304\n",
            " 305 306 307 308 309 310 311 312 313 314 315 316 317 318 319 320 321 322\n",
            " 323 324 325 326 327 328 329 330 331 332 333 334 335 336 337 338 339 340\n",
            " 341] TEST: [ 0  1  2  3  4  5  6  7  8  9 10 11 12 13 14 15 16 17 18 19 20 21 22 23\n",
            " 24 25 26 27 28 29 30 31 32 33 34]\n"
          ],
          "name": "stdout"
        },
        {
          "output_type": "display_data",
          "data": {
            "image/png": "[encoded data removed]",
            "text/plain": [
              "<Figure size 360x576 with 1 Axes>"
            ]
          },
          "metadata": {
            "tags": [],
            "needs_background": "light"
          }
        },
        {
          "output_type": "stream",
          "text": [
            "TRAIN: [  0   1   2   3   4   5   6   7   8   9  10  11  12  13  14  15  16  17\n",
            "  18  19  20  21  22  23  24  25  26  27  28  29  30  31  32  33  34  70\n",
            "  71  72  73  74  75  76  77  78  79  80  81  82  83  84  85  86  87  88\n",
            "  89  90  91  92  93  94  95  96  97  98  99 100 101 102 103 104 105 106\n",
            " 107 108 109 110 111 112 113 114 115 116 117 118 119 120 121 122 123 124\n",
            " 125 126 127 128 129 130 131 132 133 134 135 136 137 138 139 140 141 142\n",
            " 143 144 145 146 147 148 149 150 151 152 153 154 155 156 157 158 159 160\n",
            " 161 162 163 164 165 166 167 168 169 170 171 172 173 174 175 176 177 178\n",
            " 179 180 181 182 183 184 185 186 187 188 189 190 191 192 193 194 195 196\n",
            " 197 198 199 200 201 202 203 204 205 206 207 208 209 210 211 212 213 214\n",
            " 215 216 217 218 219 220 221 222 223 224 225 226 227 228 229 230 231 232\n",
            " 233 234 235 236 237 238 239 240 241 242 243 244 245 246 247 248 249 250\n",
            " 251 252 253 254 255 256 257 258 259 260 261 262 263 264 265 266 267 268\n",
            " 269 270 271 272 273 274 275 276 277 278 279 280 281 282 283 284 285 286\n",
            " 287 288 289 290 291 292 293 294 295 296 297 298 299 300 301 302 303 304\n",
            " 305 306 307 308 309 310 311 312 313 314 315 316 317 318 319 320 321 322\n",
            " 323 324 325 326 327 328 329 330 331 332 333 334 335 336 337 338 339 340\n",
            " 341] TEST: [35 36 37 38 39 40 41 42 43 44 45 46 47 48 49 50 51 52 53 54 55 56 57 58\n",
            " 59 60 61 62 63 64 65 66 67 68 69]\n"
          ],
          "name": "stdout"
        },
        {
          "output_type": "display_data",
          "data": {
            "image/png": "[encoded data removed]",
            "text/plain": [
              "<Figure size 360x576 with 1 Axes>"
            ]
          },
          "metadata": {
            "tags": [],
            "needs_background": "light"
          }
        },
        {
          "output_type": "stream",
          "text": [
            "TRAIN: [  0   1   2   3   4   5   6   7   8   9  10  11  12  13  14  15  16  17\n",
            "  18  19  20  21  22  23  24  25  26  27  28  29  30  31  32  33  34  35\n",
            "  36  37  38  39  40  41  42  43  44  45  46  47  48  49  50  51  52  53\n",
            "  54  55  56  57  58  59  60  61  62  63  64  65  66  67  68  69 104 105\n",
            " 106 107 108 109 110 111 112 113 114 115 116 117 118 119 120 121 122 123\n",
            " 124 125 126 127 128 129 130 131 132 133 134 135 136 137 138 139 140 141\n",
            " 142 143 144 145 146 147 148 149 150 151 152 153 154 155 156 157 158 159\n",
            " 160 161 162 163 164 165 166 167 168 169 170 171 172 173 174 175 176 177\n",
            " 178 179 180 181 182 183 184 185 186 187 188 189 190 191 192 193 194 195\n",
            " 196 197 198 199 200 201 202 203 204 205 206 207 208 209 210 211 212 213\n",
            " 214 215 216 217 218 219 220 221 222 223 224 225 226 227 228 229 230 231\n",
            " 232 233 234 235 236 237 238 239 240 241 242 243 244 245 246 247 248 249\n",
            " 250 251 252 253 254 255 256 257 258 259 260 261 262 263 264 265 266 267\n",
            " 268 269 270 271 272 273 274 275 276 277 278 279 280 281 282 283 284 285\n",
            " 286 287 288 289 290 291 292 293 294 295 296 297 298 299 300 301 302 303\n",
            " 304 305 306 307 308 309 310 311 312 313 314 315 316 317 318 319 320 321\n",
            " 322 323 324 325 326 327 328 329 330 331 332 333 334 335 336 337 338 339\n",
            " 340 341] TEST: [ 70  71  72  73  74  75  76  77  78  79  80  81  82  83  84  85  86  87\n",
            "  88  89  90  91  92  93  94  95  96  97  98  99 100 101 102 103]\n"
          ],
          "name": "stdout"
        },
        {
          "output_type": "display_data",
          "data": {
            "image/png": "[encoded data removed]",
            "text/plain": [
              "<Figure size 360x576 with 1 Axes>"
            ]
          },
          "metadata": {
            "tags": [],
            "needs_background": "light"
          }
        },
        {
          "output_type": "stream",
          "text": [
            "TRAIN: [  0   1   2   3   4   5   6   7   8   9  10  11  12  13  14  15  16  17\n",
            "  18  19  20  21  22  23  24  25  26  27  28  29  30  31  32  33  34  35\n",
            "  36  37  38  39  40  41  42  43  44  45  46  47  48  49  50  51  52  53\n",
            "  54  55  56  57  58  59  60  61  62  63  64  65  66  67  68  69  70  71\n",
            "  72  73  74  75  76  77  78  79  80  81  82  83  84  85  86  87  88  89\n",
            "  90  91  92  93  94  95  96  97  98  99 100 101 102 103 138 139 140 141\n",
            " 142 143 144 145 146 147 148 149 150 151 152 153 154 155 156 157 158 159\n",
            " 160 161 162 163 164 165 166 167 168 169 170 171 172 173 174 175 176 177\n",
            " 178 179 180 181 182 183 184 185 186 187 188 189 190 191 192 193 194 195\n",
            " 196 197 198 199 200 201 202 203 204 205 206 207 208 209 210 211 212 213\n",
            " 214 215 216 217 218 219 220 221 222 223 224 225 226 227 228 229 230 231\n",
            " 232 233 234 235 236 237 238 239 240 241 242 243 244 245 246 247 248 249\n",
            " 250 251 252 253 254 255 256 257 258 259 260 261 262 263 264 265 266 267\n",
            " 268 269 270 271 272 273 274 275 276 277 278 279 280 281 282 283 284 285\n",
            " 286 287 288 289 290 291 292 293 294 295 296 297 298 299 300 301 302 303\n",
            " 304 305 306 307 308 309 310 311 312 313 314 315 316 317 318 319 320 321\n",
            " 322 323 324 325 326 327 328 329 330 331 332 333 334 335 336 337 338 339\n",
            " 340 341] TEST: [104 105 106 107 108 109 110 111 112 113 114 115 116 117 118 119 120 121\n",
            " 122 123 124 125 126 127 128 129 130 131 132 133 134 135 136 137]\n"
          ],
          "name": "stdout"
        },
        {
          "output_type": "display_data",
          "data": {
            "image/png": "[encoded data removed]",
            "text/plain": [
              "<Figure size 360x576 with 1 Axes>"
            ]
          },
          "metadata": {
            "tags": [],
            "needs_background": "light"
          }
        },
        {
          "output_type": "stream",
          "text": [
            "TRAIN: [  0   1   2   3   4   5   6   7   8   9  10  11  12  13  14  15  16  17\n",
            "  18  19  20  21  22  23  24  25  26  27  28  29  30  31  32  33  34  35\n",
            "  36  37  38  39  40  41  42  43  44  45  46  47  48  49  50  51  52  53\n",
            "  54  55  56  57  58  59  60  61  62  63  64  65  66  67  68  69  70  71\n",
            "  72  73  74  75  76  77  78  79  80  81  82  83  84  85  86  87  88  89\n",
            "  90  91  92  93  94  95  96  97  98  99 100 101 102 103 104 105 106 107\n",
            " 108 109 110 111 112 113 114 115 116 117 118 119 120 121 122 123 124 125\n",
            " 126 127 128 129 130 131 132 133 134 135 136 137 172 173 174 175 176 177\n",
            " 178 179 180 181 182 183 184 185 186 187 188 189 190 191 192 193 194 195\n",
            " 196 197 198 199 200 201 202 203 204 205 206 207 208 209 210 211 212 213\n",
            " 214 215 216 217 218 219 220 221 222 223 224 225 226 227 228 229 230 231\n",
            " 232 233 234 235 236 237 238 239 240 241 242 243 244 245 246 247 248 249\n",
            " 250 251 252 253 254 255 256 257 258 259 260 261 262 263 264 265 266 267\n",
            " 268 269 270 271 272 273 274 275 276 277 278 279 280 281 282 283 284 285\n",
            " 286 287 288 289 290 291 292 293 294 295 296 297 298 299 300 301 302 303\n",
            " 304 305 306 307 308 309 310 311 312 313 314 315 316 317 318 319 320 321\n",
            " 322 323 324 325 326 327 328 329 330 331 332 333 334 335 336 337 338 339\n",
            " 340 341] TEST: [138 139 140 141 142 143 144 145 146 147 148 149 150 151 152 153 154 155\n",
            " 156 157 158 159 160 161 162 163 164 165 166 167 168 169 170 171]\n"
          ],
          "name": "stdout"
        },
        {
          "output_type": "display_data",
          "data": {
            "image/png": "[encoded data removed]",
            "text/plain": [
              "<Figure size 360x576 with 1 Axes>"
            ]
          },
          "metadata": {
            "tags": [],
            "needs_background": "light"
          }
        },
        {
          "output_type": "stream",
          "text": [
            "TRAIN: [  0   1   2   3   4   5   6   7   8   9  10  11  12  13  14  15  16  17\n",
            "  18  19  20  21  22  23  24  25  26  27  28  29  30  31  32  33  34  35\n",
            "  36  37  38  39  40  41  42  43  44  45  46  47  48  49  50  51  52  53\n",
            "  54  55  56  57  58  59  60  61  62  63  64  65  66  67  68  69  70  71\n",
            "  72  73  74  75  76  77  78  79  80  81  82  83  84  85  86  87  88  89\n",
            "  90  91  92  93  94  95  96  97  98  99 100 101 102 103 104 105 106 107\n",
            " 108 109 110 111 112 113 114 115 116 117 118 119 120 121 122 123 124 125\n",
            " 126 127 128 129 130 131 132 133 134 135 136 137 138 139 140 141 142 143\n",
            " 144 145 146 147 148 149 150 151 152 153 154 155 156 157 158 159 160 161\n",
            " 162 163 164 165 166 167 168 169 170 171 206 207 208 209 210 211 212 213\n",
            " 214 215 216 217 218 219 220 221 222 223 224 225 226 227 228 229 230 231\n",
            " 232 233 234 235 236 237 238 239 240 241 242 243 244 245 246 247 248 249\n",
            " 250 251 252 253 254 255 256 257 258 259 260 261 262 263 264 265 266 267\n",
            " 268 269 270 271 272 273 274 275 276 277 278 279 280 281 282 283 284 285\n",
            " 286 287 288 289 290 291 292 293 294 295 296 297 298 299 300 301 302 303\n",
            " 304 305 306 307 308 309 310 311 312 313 314 315 316 317 318 319 320 321\n",
            " 322 323 324 325 326 327 328 329 330 331 332 333 334 335 336 337 338 339\n",
            " 340 341] TEST: [172 173 174 175 176 177 178 179 180 181 182 183 184 185 186 187 188 189\n",
            " 190 191 192 193 194 195 196 197 198 199 200 201 202 203 204 205]\n"
          ],
          "name": "stdout"
        },
        {
          "output_type": "display_data",
          "data": {
            "image/png": "[encoded data removed]",
            "text/plain": [
              "<Figure size 360x576 with 1 Axes>"
            ]
          },
          "metadata": {
            "tags": [],
            "needs_background": "light"
          }
        },
        {
          "output_type": "stream",
          "text": [
            "TRAIN: [  0   1   2   3   4   5   6   7   8   9  10  11  12  13  14  15  16  17\n",
            "  18  19  20  21  22  23  24  25  26  27  28  29  30  31  32  33  34  35\n",
            "  36  37  38  39  40  41  42  43  44  45  46  47  48  49  50  51  52  53\n",
            "  54  55  56  57  58  59  60  61  62  63  64  65  66  67  68  69  70  71\n",
            "  72  73  74  75  76  77  78  79  80  81  82  83  84  85  86  87  88  89\n",
            "  90  91  92  93  94  95  96  97  98  99 100 101 102 103 104 105 106 107\n",
            " 108 109 110 111 112 113 114 115 116 117 118 119 120 121 122 123 124 125\n",
            " 126 127 128 129 130 131 132 133 134 135 136 137 138 139 140 141 142 143\n",
            " 144 145 146 147 148 149 150 151 152 153 154 155 156 157 158 159 160 161\n",
            " 162 163 164 165 166 167 168 169 170 171 172 173 174 175 176 177 178 179\n",
            " 180 181 182 183 184 185 186 187 188 189 190 191 192 193 194 195 196 197\n",
            " 198 199 200 201 202 203 204 205 240 241 242 243 244 245 246 247 248 249\n",
            " 250 251 252 253 254 255 256 257 258 259 260 261 262 263 264 265 266 267\n",
            " 268 269 270 271 272 273 274 275 276 277 278 279 280 281 282 283 284 285\n",
            " 286 287 288 289 290 291 292 293 294 295 296 297 298 299 300 301 302 303\n",
            " 304 305 306 307 308 309 310 311 312 313 314 315 316 317 318 319 320 321\n",
            " 322 323 324 325 326 327 328 329 330 331 332 333 334 335 336 337 338 339\n",
            " 340 341] TEST: [206 207 208 209 210 211 212 213 214 215 216 217 218 219 220 221 222 223\n",
            " 224 225 226 227 228 229 230 231 232 233 234 235 236 237 238 239]\n"
          ],
          "name": "stdout"
        },
        {
          "output_type": "display_data",
          "data": {
            "image/png": "[encoded data removed]",
            "text/plain": [
              "<Figure size 360x576 with 1 Axes>"
            ]
          },
          "metadata": {
            "tags": [],
            "needs_background": "light"
          }
        },
        {
          "output_type": "stream",
          "text": [
            "TRAIN: [  0   1   2   3   4   5   6   7   8   9  10  11  12  13  14  15  16  17\n",
            "  18  19  20  21  22  23  24  25  26  27  28  29  30  31  32  33  34  35\n",
            "  36  37  38  39  40  41  42  43  44  45  46  47  48  49  50  51  52  53\n",
            "  54  55  56  57  58  59  60  61  62  63  64  65  66  67  68  69  70  71\n",
            "  72  73  74  75  76  77  78  79  80  81  82  83  84  85  86  87  88  89\n",
            "  90  91  92  93  94  95  96  97  98  99 100 101 102 103 104 105 106 107\n",
            " 108 109 110 111 112 113 114 115 116 117 118 119 120 121 122 123 124 125\n",
            " 126 127 128 129 130 131 132 133 134 135 136 137 138 139 140 141 142 143\n",
            " 144 145 146 147 148 149 150 151 152 153 154 155 156 157 158 159 160 161\n",
            " 162 163 164 165 166 167 168 169 170 171 172 173 174 175 176 177 178 179\n",
            " 180 181 182 183 184 185 186 187 188 189 190 191 192 193 194 195 196 197\n",
            " 198 199 200 201 202 203 204 205 206 207 208 209 210 211 212 213 214 215\n",
            " 216 217 218 219 220 221 222 223 224 225 226 227 228 229 230 231 232 233\n",
            " 234 235 236 237 238 239 274 275 276 277 278 279 280 281 282 283 284 285\n",
            " 286 287 288 289 290 291 292 293 294 295 296 297 298 299 300 301 302 303\n",
            " 304 305 306 307 308 309 310 311 312 313 314 315 316 317 318 319 320 321\n",
            " 322 323 324 325 326 327 328 329 330 331 332 333 334 335 336 337 338 339\n",
            " 340 341] TEST: [240 241 242 243 244 245 246 247 248 249 250 251 252 253 254 255 256 257\n",
            " 258 259 260 261 262 263 264 265 266 267 268 269 270 271 272 273]\n"
          ],
          "name": "stdout"
        },
        {
          "output_type": "display_data",
          "data": {
            "image/png": "[encoded data removed]",
            "text/plain": [
              "<Figure size 360x576 with 1 Axes>"
            ]
          },
          "metadata": {
            "tags": [],
            "needs_background": "light"
          }
        },
        {
          "output_type": "stream",
          "text": [
            "TRAIN: [  0   1   2   3   4   5   6   7   8   9  10  11  12  13  14  15  16  17\n",
            "  18  19  20  21  22  23  24  25  26  27  28  29  30  31  32  33  34  35\n",
            "  36  37  38  39  40  41  42  43  44  45  46  47  48  49  50  51  52  53\n",
            "  54  55  56  57  58  59  60  61  62  63  64  65  66  67  68  69  70  71\n",
            "  72  73  74  75  76  77  78  79  80  81  82  83  84  85  86  87  88  89\n",
            "  90  91  92  93  94  95  96  97  98  99 100 101 102 103 104 105 106 107\n",
            " 108 109 110 111 112 113 114 115 116 117 118 119 120 121 122 123 124 125\n",
            " 126 127 128 129 130 131 132 133 134 135 136 137 138 139 140 141 142 143\n",
            " 144 145 146 147 148 149 150 151 152 153 154 155 156 157 158 159 160 161\n",
            " 162 163 164 165 166 167 168 169 170 171 172 173 174 175 176 177 178 179\n",
            " 180 181 182 183 184 185 186 187 188 189 190 191 192 193 194 195 196 197\n",
            " 198 199 200 201 202 203 204 205 206 207 208 209 210 211 212 213 214 215\n",
            " 216 217 218 219 220 221 222 223 224 225 226 227 228 229 230 231 232 233\n",
            " 234 235 236 237 238 239 240 241 242 243 244 245 246 247 248 249 250 251\n",
            " 252 253 254 255 256 257 258 259 260 261 262 263 264 265 266 267 268 269\n",
            " 270 271 272 273 308 309 310 311 312 313 314 315 316 317 318 319 320 321\n",
            " 322 323 324 325 326 327 328 329 330 331 332 333 334 335 336 337 338 339\n",
            " 340 341] TEST: [274 275 276 277 278 279 280 281 282 283 284 285 286 287 288 289 290 291\n",
            " 292 293 294 295 296 297 298 299 300 301 302 303 304 305 306 307]\n"
          ],
          "name": "stdout"
        },
        {
          "output_type": "display_data",
          "data": {
            "image/png": "[encoded data removed]",
            "text/plain": [
              "<Figure size 360x576 with 1 Axes>"
            ]
          },
          "metadata": {
            "tags": [],
            "needs_background": "light"
          }
        },
        {
          "output_type": "stream",
          "text": [
            "TRAIN: [  0   1   2   3   4   5   6   7   8   9  10  11  12  13  14  15  16  17\n",
            "  18  19  20  21  22  23  24  25  26  27  28  29  30  31  32  33  34  35\n",
            "  36  37  38  39  40  41  42  43  44  45  46  47  48  49  50  51  52  53\n",
            "  54  55  56  57  58  59  60  61  62  63  64  65  66  67  68  69  70  71\n",
            "  72  73  74  75  76  77  78  79  80  81  82  83  84  85  86  87  88  89\n",
            "  90  91  92  93  94  95  96  97  98  99 100 101 102 103 104 105 106 107\n",
            " 108 109 110 111 112 113 114 115 116 117 118 119 120 121 122 123 124 125\n",
            " 126 127 128 129 130 131 132 133 134 135 136 137 138 139 140 141 142 143\n",
            " 144 145 146 147 148 149 150 151 152 153 154 155 156 157 158 159 160 161\n",
            " 162 163 164 165 166 167 168 169 170 171 172 173 174 175 176 177 178 179\n",
            " 180 181 182 183 184 185 186 187 188 189 190 191 192 193 194 195 196 197\n",
            " 198 199 200 201 202 203 204 205 206 207 208 209 210 211 212 213 214 215\n",
            " 216 217 218 219 220 221 222 223 224 225 226 227 228 229 230 231 232 233\n",
            " 234 235 236 237 238 239 240 241 242 243 244 245 246 247 248 249 250 251\n",
            " 252 253 254 255 256 257 258 259 260 261 262 263 264 265 266 267 268 269\n",
            " 270 271 272 273 274 275 276 277 278 279 280 281 282 283 284 285 286 287\n",
            " 288 289 290 291 292 293 294 295 296 297 298 299 300 301 302 303 304 305\n",
            " 306 307] TEST: [308 309 310 311 312 313 314 315 316 317 318 319 320 321 322 323 324 325\n",
            " 326 327 328 329 330 331 332 333 334 335 336 337 338 339 340 341]\n"
          ],
          "name": "stdout"
        },
        {
          "output_type": "display_data",
          "data": {
            "image/png": "[encoded data removed]",
            "text/plain": [
              "<Figure size 360x576 with 1 Axes>"
            ]
          },
          "metadata": {
            "tags": [],
            "needs_background": "light"
          }
        }
      ]
    }
  ]
}