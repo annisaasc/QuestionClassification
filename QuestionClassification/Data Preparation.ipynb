{
  "nbformat": 4,
  "nbformat_minor": 0,
  "metadata": {
    "colab": {
      "name": "BISMILLAH DATASET",
      "provenance": [],
      "collapsed_sections": []
    },
    "kernelspec": {
      "name": "python3",
      "display_name": "Python 3"
    },
    "language_info": {
      "name": "python"
    }
  },
  "cells": [
    {
      "cell_type": "code",
      "metadata": {
        "colab": {
          "base_uri": "https://localhost:8080/"
        },
        "id": "iv2W-GBRpeTN",
        "outputId": "d970ef96-787e-4ee6-a8e2-01b8f9724ceb"
      },
      "source": [
        "import pandas as pd\n",
        "import numpy as np\n",
        "\n",
        "#import utk tokenizing\n",
        "import nltk\n",
        "nltk.download(\"punkt\")\n",
        "\n",
        "#install utk stemming\n",
        "!pip install Sastrawi\n",
        "from Sastrawi.Stemmer.StemmerFactory import StemmerFactory\n",
        "factory = StemmerFactory()\n",
        "stemmer = factory.create_stemmer()"
      ],
      "execution_count": null,
      "outputs": [
        {
          "output_type": "stream",
          "text": [
            "[nltk_data] Downloading package punkt to /root/nltk_data...\n",
            "[nltk_data]   Package punkt is already up-to-date!\n",
            "Requirement already satisfied: Sastrawi in /usr/local/lib/python3.7/dist-packages (1.0.1)\n"
          ],
          "name": "stdout"
        }
      ]
    },
    {
      "cell_type": "code",
      "metadata": {
        "colab": {
          "base_uri": "https://localhost:8080/"
        },
        "id": "E3JLuPzaQqfP",
        "outputId": "3d237380-86bd-4b35-e876-d6a9124c0c56"
      },
      "source": [
        "!pip install xlsxwriter\n",
        "!pip install xlrd\n",
        "!pip install openpyxl"
      ],
      "execution_count": null,
      "outputs": [
        {
          "output_type": "stream",
          "text": [
            "Requirement already satisfied: xlsxwriter in /usr/local/lib/python3.7/dist-packages (1.4.3)\n",
            "Requirement already satisfied: xlrd in /usr/local/lib/python3.7/dist-packages (1.1.0)\n",
            "Requirement already satisfied: openpyxl in /usr/local/lib/python3.7/dist-packages (2.5.9)\n",
            "Requirement already satisfied: et-xmlfile in /usr/local/lib/python3.7/dist-packages (from openpyxl) (1.1.0)\n",
            "Requirement already satisfied: jdcal in /usr/local/lib/python3.7/dist-packages (from openpyxl) (1.4.1)\n"
          ],
          "name": "stdout"
        }
      ]
    },
    {
      "cell_type": "code",
      "metadata": {
        "id": "qkhHD9HTtXXS"
      },
      "source": [
        "soal1 = pd.read_excel(\"/content/drive/MyDrive/PER-TA-AN DUNIAWI/Data/42-01/ISI3F4-SI-42-01-Quiz 1 - Pengantar Business Intelligence-responses.xlsx\")\n",
        "soal2 = pd.read_excel(\"/content/drive/MyDrive/PER-TA-AN DUNIAWI/Data/42-01/ISI3F4-SI-42-01-Quiz 2 - Pengenalan Data-responses.xlsx\")\n",
        "soal3 = pd.read_excel(\"/content/drive/MyDrive/PER-TA-AN DUNIAWI/Data/42-01/ISI3F4-SI-42-01-Quiz 3 - Konsep Statistik dan Analitika Data-responses.xlsx\")\n",
        "soal4 = pd.read_excel(\"/content/drive/MyDrive/PER-TA-AN DUNIAWI/Data/42-01/ISI3F4-SI-42-01-Quiz 4 - Reporting Data-responses.xlsx\")\n",
        "soal5 = pd.read_excel(\"/content/drive/MyDrive/PER-TA-AN DUNIAWI/Data/42-01/ISI3F4-SI-42-01-Quiz 5 - Perancangan Dashboard-responses.xlsx\")\n",
        "soal6 = pd.read_excel(\"/content/drive/MyDrive/PER-TA-AN DUNIAWI/Data/42-01/ISI3F4-SI-42-01-Quiz 6 - Pengantar Data Warehouse-responses.xlsx\")\n",
        "soal7 = pd.read_excel(\"/content/drive/MyDrive/PER-TA-AN DUNIAWI/Data/42-01/ISI3F4-SI-42-01-Quiz 7 - Pengembangan Data Warehouse-responses.xlsx\")\n",
        "soal8 = pd.read_excel(\"/content/drive/MyDrive/PER-TA-AN DUNIAWI/Data/42-01/ISI3F4-SI-42-01-Quiz 8 - Pengukuran Kinerja-responses.xlsx\")\n",
        "soal9 = pd.read_excel(\"/content/drive/MyDrive/PER-TA-AN DUNIAWI/Data/42-01/ISI3F4-SI-42-02-Quiz 9 - Data Mining-responses.xlsx\")\n",
        "soal10 = pd.read_excel(\"/content/drive/MyDrive/PER-TA-AN DUNIAWI/Data/42-01/ISI3F4-SI-42-01-Quiz 10 - Metode Data Mining-responses.xlsx\")\n",
        "soal11 = pd.read_excel(\"/content/drive/MyDrive/PER-TA-AN DUNIAWI/Data/42-01/ISI3F4-SI-42-01-Quiz 11 - Big Data-responses.xlsx\")"
      ],
      "execution_count": null,
      "outputs": []
    },
    {
      "cell_type": "code",
      "metadata": {
        "colab": {
          "base_uri": "https://localhost:8080/",
          "height": 547
        },
        "id": "KTErdFl65zS0",
        "outputId": "fdc711a5-278a-4ef1-ab36-16cd48200793"
      },
      "source": [
        "soal1.head()"
      ],
      "execution_count": null,
      "outputs": [
        {
          "output_type": "execute_result",
          "data": {
            "text/html": [
              "<div>\n",
              "<style scoped>\n",
              "    .dataframe tbody tr th:only-of-type {\n",
              "        vertical-align: middle;\n",
              "    }\n",
              "\n",
              "    .dataframe tbody tr th {\n",
              "        vertical-align: top;\n",
              "    }\n",
              "\n",
              "    .dataframe thead th {\n",
              "        text-align: right;\n",
              "    }\n",
              "</style>\n",
              "<table border=\"1\" class=\"dataframe\">\n",
              "  <thead>\n",
              "    <tr style=\"text-align: right;\">\n",
              "      <th></th>\n",
              "      <th>Surname</th>\n",
              "      <th>First name</th>\n",
              "      <th>ID number</th>\n",
              "      <th>Email address</th>\n",
              "      <th>State</th>\n",
              "      <th>Started on</th>\n",
              "      <th>Completed</th>\n",
              "      <th>Time taken</th>\n",
              "      <th>Grade/10.00</th>\n",
              "      <th>Question 1</th>\n",
              "      <th>Response 1</th>\n",
              "      <th>Right answer 1</th>\n",
              "      <th>Question 2</th>\n",
              "      <th>Response 2</th>\n",
              "      <th>Right answer 2</th>\n",
              "      <th>Question 3</th>\n",
              "      <th>Response 3</th>\n",
              "      <th>Right answer 3</th>\n",
              "      <th>Question 4</th>\n",
              "      <th>Response 4</th>\n",
              "      <th>Right answer 4</th>\n",
              "      <th>Question 5</th>\n",
              "      <th>Response 5</th>\n",
              "      <th>Right answer 5</th>\n",
              "    </tr>\n",
              "  </thead>\n",
              "  <tbody>\n",
              "    <tr>\n",
              "      <th>0</th>\n",
              "      <td>HERIANTO MANIK</td>\n",
              "      <td>YUSUF</td>\n",
              "      <td>1202184153</td>\n",
              "      <td>yusufheri@365.telkomuniversity.ac.id</td>\n",
              "      <td>Finished</td>\n",
              "      <td>7 September 2020  8:54 AM</td>\n",
              "      <td>7 September 2020  9:00 AM</td>\n",
              "      <td>5 mins 50 secs</td>\n",
              "      <td>8.0</td>\n",
              "      <td>Aktor yang bertanggung jawab atas analisis pre...</td>\n",
              "      <td>Data Scientist</td>\n",
              "      <td>Data Scientist</td>\n",
              "      <td>Yang bukan termasuk dalam OLTP adalah..: ERP S...</td>\n",
              "      <td>Resource Management</td>\n",
              "      <td>Resource Management</td>\n",
              "      <td>Yang bukan environtment dari arsitektur Busine...</td>\n",
              "      <td>Development Environtment</td>\n",
              "      <td>Development Environtment</td>\n",
              "      <td>Analytics pada Retail value chain adalah salah...</td>\n",
              "      <td>Business Analyst</td>\n",
              "      <td>Business Analytics</td>\n",
              "      <td>Sistem pemrosesan transaksi yang secara konsta...</td>\n",
              "      <td>OLTP</td>\n",
              "      <td>OLTP</td>\n",
              "    </tr>\n",
              "    <tr>\n",
              "      <th>1</th>\n",
              "      <td>HERIANTO MANIK</td>\n",
              "      <td>YUSUF</td>\n",
              "      <td>1202184153</td>\n",
              "      <td>yusufheri@365.telkomuniversity.ac.id</td>\n",
              "      <td>Finished</td>\n",
              "      <td>7 September 2020  9:00 AM</td>\n",
              "      <td>7 September 2020  9:03 AM</td>\n",
              "      <td>3 mins 13 secs</td>\n",
              "      <td>10.0</td>\n",
              "      <td>Fokusnya terhadap Enterprise/Executive IS adal...</td>\n",
              "      <td>1980an</td>\n",
              "      <td>1980an</td>\n",
              "      <td>Istilah umum yang menggabungkan arsitektur, to...</td>\n",
              "      <td>Business Intelligent</td>\n",
              "      <td>Business Intelligent</td>\n",
              "      <td>Yang bukan termasuk CSF Business Intelligent a...</td>\n",
              "      <td>SDM yang kompeten</td>\n",
              "      <td>SDM yang kompeten</td>\n",
              "      <td>Sistem pendukung keputusan (DSS) menggabungkan...</td>\n",
              "      <td>1970an</td>\n",
              "      <td>1970an</td>\n",
              "      <td>Aspek yang harus dimiliki sebagai data scienti...</td>\n",
              "      <td>Data Development</td>\n",
              "      <td>Data Development</td>\n",
              "    </tr>\n",
              "    <tr>\n",
              "      <th>2</th>\n",
              "      <td>HUDYA RIZFIANTO</td>\n",
              "      <td>FAIZAL</td>\n",
              "      <td>1202184281</td>\n",
              "      <td>rizfianto@365.telkomuniversity.ac.id</td>\n",
              "      <td>Finished</td>\n",
              "      <td>7 September 2020  9:07 AM</td>\n",
              "      <td>7 September 2020  9:21 AM</td>\n",
              "      <td>14 mins 13 secs</td>\n",
              "      <td>8.0</td>\n",
              "      <td>Sistem pemrosesan transaksi yang secara konsta...</td>\n",
              "      <td>OLTP</td>\n",
              "      <td>OLTP</td>\n",
              "      <td>Yang bukan termasuk Type of Business Analytics...</td>\n",
              "      <td>Personalitate</td>\n",
              "      <td>Personalitate</td>\n",
              "      <td>Yang bukan environtment dari arsitektur Busine...</td>\n",
              "      <td>Development Environtment</td>\n",
              "      <td>Development Environtment</td>\n",
              "      <td>Fokusnya terhadap Enterprise/Executive IS adal...</td>\n",
              "      <td>1990an</td>\n",
              "      <td>1980an</td>\n",
              "      <td>Aspek yang harus dimiliki sebagai data scienti...</td>\n",
              "      <td>Data Development</td>\n",
              "      <td>Data Development</td>\n",
              "    </tr>\n",
              "    <tr>\n",
              "      <th>3</th>\n",
              "      <td>PRABASWARA</td>\n",
              "      <td>RAFI</td>\n",
              "      <td>1202184056</td>\n",
              "      <td>rafiprabaswara@365.telkomuniversity.ac.id</td>\n",
              "      <td>Finished</td>\n",
              "      <td>7 September 2020  9:10 AM</td>\n",
              "      <td>7 September 2020  9:15 AM</td>\n",
              "      <td>5 mins</td>\n",
              "      <td>10.0</td>\n",
              "      <td>Komponen yang dikembangkan oleh Gartner dalam ...</td>\n",
              "      <td>Cost</td>\n",
              "      <td>Cost</td>\n",
              "      <td>Sistem pemrosesan transaksi yang secara konsta...</td>\n",
              "      <td>OLTP</td>\n",
              "      <td>OLTP</td>\n",
              "      <td>Yang bukan termasuk dalam OLTP adalah..: Opera...</td>\n",
              "      <td>Resource Management</td>\n",
              "      <td>Resource Management</td>\n",
              "      <td>Analytics pada Retail value chain adalah salah...</td>\n",
              "      <td>Business Analytics</td>\n",
              "      <td>Business Analytics</td>\n",
              "      <td>Sistem pendukung keputusan (DSS) menggabungkan...</td>\n",
              "      <td>1970an</td>\n",
              "      <td>1970an</td>\n",
              "    </tr>\n",
              "    <tr>\n",
              "      <th>4</th>\n",
              "      <td>SYUKRON KAMIL</td>\n",
              "      <td>MUHAMMAD</td>\n",
              "      <td>1202184190</td>\n",
              "      <td>msyukronkamil@365.telkomuniversity.ac.id</td>\n",
              "      <td>Finished</td>\n",
              "      <td>7 September 2020  9:15 AM</td>\n",
              "      <td>7 September 2020  9:19 AM</td>\n",
              "      <td>3 mins 36 secs</td>\n",
              "      <td>10.0</td>\n",
              "      <td>Fokus utama pengembangan sistem informasi adal...</td>\n",
              "      <td>1970an</td>\n",
              "      <td>1970an</td>\n",
              "      <td>Sistem pemrosesan transaksi yang secara konsta...</td>\n",
              "      <td>OLTP</td>\n",
              "      <td>OLTP</td>\n",
              "      <td>Komponen yang dikembangkan oleh Gartner dalam ...</td>\n",
              "      <td>Cost</td>\n",
              "      <td>Cost</td>\n",
              "      <td>Yang bukan environtment dari arsitektur Busine...</td>\n",
              "      <td>Development Environtment</td>\n",
              "      <td>Development Environtment</td>\n",
              "      <td>Istilah umum yang menggabungkan arsitektur, to...</td>\n",
              "      <td>Business Intelligent</td>\n",
              "      <td>Business Intelligent</td>\n",
              "    </tr>\n",
              "  </tbody>\n",
              "</table>\n",
              "</div>"
            ],
            "text/plain": [
              "           Surname First name  ...            Response 5        Right answer 5\n",
              "0   HERIANTO MANIK      YUSUF  ...                  OLTP                  OLTP\n",
              "1   HERIANTO MANIK      YUSUF  ...      Data Development      Data Development\n",
              "2  HUDYA RIZFIANTO     FAIZAL  ...      Data Development      Data Development\n",
              "3       PRABASWARA       RAFI  ...                1970an                1970an\n",
              "4    SYUKRON KAMIL   MUHAMMAD  ...  Business Intelligent  Business Intelligent\n",
              "\n",
              "[5 rows x 24 columns]"
            ]
          },
          "metadata": {
            "tags": []
          },
          "execution_count": 75
        }
      ]
    },
    {
      "cell_type": "code",
      "metadata": {
        "id": "ld_wDJBa8lf7"
      },
      "source": [
        "#import library to manipulate file\n",
        "import os\n",
        "\n",
        "#mengarahkan path ke folder file\n",
        "cwd = os.path.abspath(\"/content/drive/MyDrive/PER-TA-AN DUNIAWI/Data/42-01\")\n",
        "\n",
        "#melihat isi file\n",
        "files = os.listdir(cwd)"
      ],
      "execution_count": null,
      "outputs": []
    },
    {
      "cell_type": "code",
      "metadata": {
        "colab": {
          "base_uri": "https://localhost:8080/"
        },
        "id": "MJhccF9kRHub",
        "outputId": "14a2e196-d7f6-4ab5-9c79-7175798a2151"
      },
      "source": [
        "#create a pandas excel writer using xlsxwriter as the engine\n",
        "writer = pd.ExcelWriter('soalgab.xlsx', engine='xlsxwriter')\n",
        "writer.save()\n",
        "gab = pd.read_excel(writer)\n",
        "print(gab)"
      ],
      "execution_count": null,
      "outputs": [
        {
          "output_type": "stream",
          "text": [
            "Empty DataFrame\n",
            "Columns: []\n",
            "Index: []\n"
          ],
          "name": "stdout"
        }
      ]
    },
    {
      "cell_type": "code",
      "metadata": {
        "id": "oVy3VjBhUpi3",
        "colab": {
          "base_uri": "https://localhost:8080/"
        },
        "outputId": "192a8ec1-137e-4d8c-8a9c-72e0f0f486c0"
      },
      "source": [
        "#combine the dataframe\n",
        "frames = [soal1,soal2,soal3,soal4,soal5,soal6,soal7,soal8,soal9,soal10,soal11]\n",
        "\n",
        "#delete the first row of all frames except the first\n",
        "frames[1:] = [df[1:] for df in frames[1:]]\n",
        "\n",
        "#concat excels\n",
        "combined = pd.concat(frames)\n",
        "\n",
        "#write to new file\n",
        "combined.to_excel(\"soalgab.xlsx\", index=False)\n",
        "df = pd.read_excel(\"soalgab.xlsx\")\n",
        "print(df.info())"
      ],
      "execution_count": null,
      "outputs": [
        {
          "output_type": "stream",
          "text": [
            "<class 'pandas.core.frame.DataFrame'>\n",
            "RangeIndex: 655 entries, 0 to 654\n",
            "Data columns (total 24 columns):\n",
            " #   Column          Non-Null Count  Dtype \n",
            "---  ------          --------------  ----- \n",
            " 0   Surname         655 non-null    object\n",
            " 1   First name      655 non-null    object\n",
            " 2   ID number       655 non-null    int64 \n",
            " 3   Email address   655 non-null    object\n",
            " 4   State           655 non-null    object\n",
            " 5   Started on      655 non-null    object\n",
            " 6   Completed       655 non-null    object\n",
            " 7   Time taken      655 non-null    object\n",
            " 8   Grade/10.00     655 non-null    object\n",
            " 9   Question 1      655 non-null    object\n",
            " 10  Response 1      655 non-null    object\n",
            " 11  Right answer 1  655 non-null    object\n",
            " 12  Question 2      655 non-null    object\n",
            " 13  Response 2      655 non-null    object\n",
            " 14  Right answer 2  655 non-null    object\n",
            " 15  Question 3      655 non-null    object\n",
            " 16  Response 3      655 non-null    object\n",
            " 17  Right answer 3  655 non-null    object\n",
            " 18  Question 4      655 non-null    object\n",
            " 19  Response 4      655 non-null    object\n",
            " 20  Right answer 4  655 non-null    object\n",
            " 21  Question 5      655 non-null    object\n",
            " 22  Response 5      655 non-null    object\n",
            " 23  Right answer 5  655 non-null    object\n",
            "dtypes: int64(1), object(23)\n",
            "memory usage: 122.9+ KB\n",
            "None\n"
          ],
          "name": "stdout"
        }
      ]
    },
    {
      "cell_type": "code",
      "metadata": {
        "colab": {
          "base_uri": "https://localhost:8080/"
        },
        "id": "C4CKsqx_ma5s",
        "outputId": "44947fcd-c77d-4b9b-c655-90eb30269d27"
      },
      "source": [
        "q = pd.read_excel(\"/content/soalgab.xlsx\", usecols=['Question 1','Question 2','Question 3','Question 4','Question 5'])\n",
        "q1 = q['Question 1']\n",
        "q2 = q['Question 2']\n",
        "q3 = q['Question 3']\n",
        "q4 = q['Question 4']\n",
        "q5 = q['Question 5']\n",
        "gabsoal = pd.concat([q1,q2,q3,q4,q5],axis=0)\n",
        "gabsoal"
      ],
      "execution_count": null,
      "outputs": [
        {
          "output_type": "execute_result",
          "data": {
            "text/plain": [
              "0      Aktor yang bertanggung jawab atas analisis pre...\n",
              "1      Fokusnya terhadap Enterprise/Executive IS adal...\n",
              "2      Sistem pemrosesan transaksi yang secara konsta...\n",
              "3      Komponen yang dikembangkan oleh Gartner dalam ...\n",
              "4      Fokus utama pengembangan sistem informasi adal...\n",
              "                             ...                        \n",
              "650    Pustaka MapReduce tidak tersedia dalam menyedi...\n",
              "651    Computional requirement yang Menyatukan perang...\n",
              "652    Big data challange yang Kemampuan untuk mempro...\n",
              "653    Big data challange yang Kemampuan untuk mempro...\n",
              "654    Big data challange yang Kemampuan untuk mengga...\n",
              "Length: 3275, dtype: object"
            ]
          },
          "metadata": {
            "tags": []
          },
          "execution_count": 70
        }
      ]
    },
    {
      "cell_type": "code",
      "metadata": {
        "colab": {
          "base_uri": "https://localhost:8080/"
        },
        "id": "bzXsOEe2q14Z",
        "outputId": "f2e2740f-8467-4904-be60-078076980afe"
      },
      "source": [
        "#split column\n",
        "gabsoal = gabsoal.str.split(':').str[0]\n",
        "print(gabsoal)"
      ],
      "execution_count": null,
      "outputs": [
        {
          "output_type": "stream",
          "text": [
            "0      Aktor yang bertanggung jawab atas analisis pre...\n",
            "1      Fokusnya terhadap Enterprise/Executive IS adal...\n",
            "2      Sistem pemrosesan transaksi yang secara konsta...\n",
            "3      Komponen yang dikembangkan oleh Gartner dalam ...\n",
            "4      Fokus utama pengembangan sistem informasi adal...\n",
            "                             ...                        \n",
            "650    Pustaka MapReduce tidak tersedia dalam menyedi...\n",
            "651    Computional requirement yang Menyatukan perang...\n",
            "652    Big data challange yang Kemampuan untuk mempro...\n",
            "653    Big data challange yang Kemampuan untuk mempro...\n",
            "654    Big data challange yang Kemampuan untuk mengga...\n",
            "Length: 3275, dtype: object\n"
          ],
          "name": "stdout"
        }
      ]
    },
    {
      "cell_type": "code",
      "metadata": {
        "colab": {
          "base_uri": "https://localhost:8080/"
        },
        "id": "6LNepk0_qq7J",
        "outputId": "07b6ee78-d8bb-4c37-e020-21568d0dab80"
      },
      "source": [
        "#drop duplicate\n",
        "gabsoal.drop_duplicates(keep='first', inplace=True)\n",
        "print(len(gabsoal))"
      ],
      "execution_count": null,
      "outputs": [
        {
          "output_type": "stream",
          "text": [
            "161\n"
          ],
          "name": "stdout"
        }
      ]
    },
    {
      "cell_type": "code",
      "metadata": {
        "id": "Et2HZJ-os9cr"
      },
      "source": [
        "gabsoal.to_excel('/content/drive/MyDrive/PER-TA-AN DUNIAWI/Data/42-01/Question.xlsx')"
      ],
      "execution_count": null,
      "outputs": []
    }
  ]
}